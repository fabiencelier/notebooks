{
 "cells": [
  {
   "cell_type": "markdown",
   "metadata": {},
   "source": [
    "# F1 statistics & simulation"
   ]
  },
  {
   "cell_type": "markdown",
   "metadata": {},
   "source": [
    "## Introduction\n",
    "\n",
    "Credit:\n",
    "The original version of this notebook was created by David Chevrier, Diggers.\n",
    "\n",
    "More information: https://www.diggers-consulting.com/blog/articles/how-data-science-could-turn-felipe-massa-a-f1-world-champion"
   ]
  },
  {
   "cell_type": "markdown",
   "metadata": {},
   "source": [
    "## Dataset\n",
    "Data from https://ergast.com/mrd/db/#csv\n",
    "F1 data from 1950 to 2019"
   ]
  },
  {
   "cell_type": "markdown",
   "metadata": {},
   "source": [
    "## Initialization & creation of the atoti session"
   ]
  },
  {
   "cell_type": "code",
   "execution_count": 1,
   "metadata": {},
   "outputs": [
    {
     "name": "stdout",
     "output_type": "stream",
     "text": [
      "Welcome to atoti 0.4.1!\n",
      "\n",
      "By using this community edition, you agree with the license available at https://www.atoti.io/eula.\n",
      "Browse the official documentation at https://docs.atoti.io.\n",
      "Join the community at https://www.atoti.io/register.\n",
      "\n",
      "You can hide this message by setting the ATOTI_HIDE_EULA_MESSAGE environment variable to True.\n"
     ]
    }
   ],
   "source": [
    "import atoti as tt\n",
    "import numpy as np\n",
    "import pandas as pd\n",
    "\n",
    "session = tt.create_session()"
   ]
  },
  {
   "cell_type": "markdown",
   "metadata": {},
   "source": [
    "## Creation of the stores"
   ]
  },
  {
   "cell_type": "code",
   "execution_count": 2,
   "metadata": {},
   "outputs": [],
   "source": [
    "drivers_df = pd.read_csv(\n",
    "    \"https://data.atoti.io/notebooks/formula-one/drivers.csv\", encoding=\"latin-1\"\n",
    ")\n",
    "drivers_df.rename(columns={\"url\": \"driver_url\"}, inplace=True)\n",
    "drivers_df.rename(columns={\"nationality\": \"driver_nationality\"}, inplace=True)\n",
    "\n",
    "drivers_store = session.read_pandas(\n",
    "    drivers_df, keys=[\"driverId\"], store_name=\"F1 drivers\"\n",
    ")"
   ]
  },
  {
   "cell_type": "code",
   "execution_count": 3,
   "metadata": {},
   "outputs": [],
   "source": [
    "races_df = pd.read_csv(\n",
    "    \"https://data.atoti.io/notebooks/formula-one/races.csv\", encoding=\"latin-1\"\n",
    ")\n",
    "races_df.rename(columns={\"url\": \"race_url\"}, inplace=True)\n",
    "races_df.rename(columns={\"name\": \"race_name\"}, inplace=True)\n",
    "\n",
    "races_store = session.read_pandas(\n",
    "    races_df, keys=[\"raceId\"], store_name=\"F1 races\", types={\"year\": tt.types.STRING}\n",
    ")"
   ]
  },
  {
   "cell_type": "code",
   "execution_count": 4,
   "metadata": {},
   "outputs": [],
   "source": [
    "constructors_df = pd.read_csv(\n",
    "    \"https://data.atoti.io/notebooks/formula-one/constructors.csv\", encoding=\"latin-1\"\n",
    ")\n",
    "constructors_df.rename(columns={\"url\": \"constructor_url\"}, inplace=True)\n",
    "constructors_df.rename(columns={\"name\": \"constructor_name\"}, inplace=True)\n",
    "constructors_df.rename(columns={\"nationality\": \"constructor_nationality\"}, inplace=True)\n",
    "\n",
    "constructors_store = session.read_pandas(\n",
    "    constructors_df, keys=[\"constructorId\"], store_name=\"F1 constructors\",\n",
    ")"
   ]
  },
  {
   "cell_type": "code",
   "execution_count": 5,
   "metadata": {},
   "outputs": [
    {
     "name": "stderr",
     "output_type": "stream",
     "text": [
      "The store has been sampled because there are more than 10000 lines in the files to load. Call Session.load_all_data() to trigger the full load of the data.\n"
     ]
    }
   ],
   "source": [
    "results_df = pd.read_csv(\"https://data.atoti.io/notebooks/formula-one/results.csv\")\n",
    "results_df.loc[results_df['fastestLapSpeed'] == '\\\\N', 'fastestLapSpeed'] = None\n",
    "results_df.loc[results_df['position'] == '\\\\N', 'position'] = None\n",
    "\n",
    "resultsTypes = {\n",
    "    \"fastestLapSpeed\": tt.types.DOUBLE,\n",
    "    \"points\": tt.types.DOUBLE,\n",
    "    \"position\": tt.types.INT,\n",
    "    \"resultId\": tt.types.STRING,\n",
    "}\n",
    "\n",
    "results_store = session.read_pandas(\n",
    "    results_df, keys=[\"resultId\"], store_name=\"F1 results\", types=resultsTypes,\n",
    ")"
   ]
  },
  {
   "cell_type": "code",
   "execution_count": 7,
   "metadata": {},
   "outputs": [],
   "source": [
    "results_store.join(drivers_store, mapping={\"driverId\": \"driverId\"})\n",
    "results_store.join(races_store, mapping={\"raceId\": \"raceId\"})\n",
    "results_store.join(constructors_store, mapping={\"constructorId\": \"constructorId\"})"
   ]
  },
  {
   "cell_type": "markdown",
   "metadata": {},
   "source": [
    "## Cube"
   ]
  },
  {
   "cell_type": "code",
   "execution_count": 8,
   "metadata": {},
   "outputs": [],
   "source": [
    "f1cube = session.create_cube(results_store, \"F1Cube\")"
   ]
  },
  {
   "cell_type": "code",
   "execution_count": 9,
   "metadata": {},
   "outputs": [],
   "source": [
    "# We can now load all the data so that visualizations operate on the entire dataset.\n",
    "# NB: as a best practice, to optimize speed while exploring your data, we recommend keeping the default sampling mode enabled.\n",
    "#     Once the model is ready, as it is the case in this notebook, you may call session.load_all_data() after creating the cube.\n",
    "session.load_all_data()"
   ]
  },
  {
   "cell_type": "code",
   "execution_count": 10,
   "metadata": {},
   "outputs": [
    {
     "data": {
      "image/svg+xml": [
       "<svg height=\"994px\" viewBox=\"0.00 0.00 611.00 994.00\" width=\"611px\" xmlns=\"http://www.w3.org/2000/svg\" xmlns:xlink=\"http://www.w3.org/1999/xlink\">\n",
       "<g class=\"graph\" id=\"graph0\" transform=\"scale(1.0 1.0) rotate(0) translate(4 990)\">\n",
       "<title>F1Cube schema</title>\n",
       "<polygon fill=\"white\" points=\"-4,4 -4,-990 607,-990 607,4 -4,4\" stroke=\"transparent\"/>\n",
       "<!-- F1 results -->\n",
       "<g class=\"node\" id=\"node1\">\n",
       "<title>F1 results</title>\n",
       "<polygon fill=\"none\" points=\"8.5,-733 8.5,-770 171.5,-770 171.5,-733 8.5,-733\" stroke=\"black\"/>\n",
       "<text font-family=\"Times,serif\" font-size=\"14.00\" font-weight=\"bold\" text-anchor=\"start\" x=\"60\" y=\"-748.8\">F1 results</text>\n",
       "<polygon fill=\"none\" points=\"8.5,-696 8.5,-733 171.5,-733 171.5,-696 8.5,-696\" stroke=\"black\"/>\n",
       "<text font-family=\"Times,serif\" font-size=\"14.00\" font-weight=\"bold\" text-anchor=\"start\" x=\"19.5\" y=\"-711.8\">Key</text>\n",
       "<text font-family=\"Times,serif\" font-size=\"14.00\" text-anchor=\"start\" x=\"44.5\" y=\"-711.8\">  resultId </text>\n",
       "<text font-family=\"Times,serif\" font-size=\"14.00\" font-style=\"italic\" text-anchor=\"start\" x=\"99.5\" y=\"-711.8\">String</text>\n",
       "<text font-family=\"Times,serif\" font-size=\"14.00\" text-anchor=\"start\" x=\"135.5\" y=\"-711.8\"> </text>\n",
       "<polygon fill=\"none\" points=\"8.5,-659 8.5,-696 171.5,-696 171.5,-659 8.5,-659\" stroke=\"black\"/>\n",
       "<text font-family=\"Times,serif\" font-size=\"14.00\" text-anchor=\"start\" x=\"19.5\" y=\"-674.8\">raceId </text>\n",
       "<text font-family=\"Times,serif\" font-size=\"14.00\" font-style=\"italic\" text-anchor=\"start\" x=\"58.5\" y=\"-674.8\">long</text>\n",
       "<text font-family=\"Times,serif\" font-size=\"14.00\" text-anchor=\"start\" x=\"85.5\" y=\"-674.8\"> </text>\n",
       "<polygon fill=\"none\" points=\"8.5,-622 8.5,-659 171.5,-659 171.5,-622 8.5,-622\" stroke=\"black\"/>\n",
       "<text font-family=\"Times,serif\" font-size=\"14.00\" text-anchor=\"start\" x=\"19.5\" y=\"-637.8\">driverId </text>\n",
       "<text font-family=\"Times,serif\" font-size=\"14.00\" font-style=\"italic\" text-anchor=\"start\" x=\"69.5\" y=\"-637.8\">long</text>\n",
       "<text font-family=\"Times,serif\" font-size=\"14.00\" text-anchor=\"start\" x=\"96.5\" y=\"-637.8\"> </text>\n",
       "<polygon fill=\"none\" points=\"8.5,-585 8.5,-622 171.5,-622 171.5,-585 8.5,-585\" stroke=\"black\"/>\n",
       "<text font-family=\"Times,serif\" font-size=\"14.00\" text-anchor=\"start\" x=\"19.5\" y=\"-600.8\">constructorId </text>\n",
       "<text font-family=\"Times,serif\" font-size=\"14.00\" font-style=\"italic\" text-anchor=\"start\" x=\"99.5\" y=\"-600.8\">long</text>\n",
       "<text font-family=\"Times,serif\" font-size=\"14.00\" text-anchor=\"start\" x=\"126.5\" y=\"-600.8\"> </text>\n",
       "<polygon fill=\"none\" points=\"8.5,-548 8.5,-585 171.5,-585 171.5,-548 8.5,-548\" stroke=\"black\"/>\n",
       "<text font-family=\"Times,serif\" font-size=\"14.00\" text-anchor=\"start\" x=\"19.5\" y=\"-563.8\">number </text>\n",
       "<text font-family=\"Times,serif\" font-size=\"14.00\" font-style=\"italic\" text-anchor=\"start\" x=\"68.5\" y=\"-563.8\">int</text>\n",
       "<text font-family=\"Times,serif\" font-size=\"14.00\" text-anchor=\"start\" x=\"84.5\" y=\"-563.8\"> </text>\n",
       "<polygon fill=\"none\" points=\"8.5,-511 8.5,-548 171.5,-548 171.5,-511 8.5,-511\" stroke=\"black\"/>\n",
       "<text font-family=\"Times,serif\" font-size=\"14.00\" text-anchor=\"start\" x=\"19.5\" y=\"-526.8\">grid </text>\n",
       "<text font-family=\"Times,serif\" font-size=\"14.00\" font-style=\"italic\" text-anchor=\"start\" x=\"47.5\" y=\"-526.8\">long</text>\n",
       "<text font-family=\"Times,serif\" font-size=\"14.00\" text-anchor=\"start\" x=\"74.5\" y=\"-526.8\"> </text>\n",
       "<polygon fill=\"none\" points=\"8.5,-474 8.5,-511 171.5,-511 171.5,-474 8.5,-474\" stroke=\"black\"/>\n",
       "<text font-family=\"Times,serif\" font-size=\"14.00\" text-anchor=\"start\" x=\"19.5\" y=\"-489.8\">position </text>\n",
       "<text font-family=\"Times,serif\" font-size=\"14.00\" font-style=\"italic\" text-anchor=\"start\" x=\"70.5\" y=\"-489.8\">int</text>\n",
       "<text font-family=\"Times,serif\" font-size=\"14.00\" text-anchor=\"start\" x=\"86.5\" y=\"-489.8\"> </text>\n",
       "<polygon fill=\"none\" points=\"8.5,-437 8.5,-474 171.5,-474 171.5,-437 8.5,-437\" stroke=\"black\"/>\n",
       "<text font-family=\"Times,serif\" font-size=\"14.00\" text-anchor=\"start\" x=\"19.5\" y=\"-452.8\">positionText </text>\n",
       "<text font-family=\"Times,serif\" font-size=\"14.00\" font-style=\"italic\" text-anchor=\"start\" x=\"95.5\" y=\"-452.8\">String</text>\n",
       "<text font-family=\"Times,serif\" font-size=\"14.00\" text-anchor=\"start\" x=\"131.5\" y=\"-452.8\"> </text>\n",
       "<polygon fill=\"none\" points=\"8.5,-400 8.5,-437 171.5,-437 171.5,-400 8.5,-400\" stroke=\"black\"/>\n",
       "<text font-family=\"Times,serif\" font-size=\"14.00\" text-anchor=\"start\" x=\"19.5\" y=\"-415.8\">positionOrder </text>\n",
       "<text font-family=\"Times,serif\" font-size=\"14.00\" font-style=\"italic\" text-anchor=\"start\" x=\"103.5\" y=\"-415.8\">long</text>\n",
       "<text font-family=\"Times,serif\" font-size=\"14.00\" text-anchor=\"start\" x=\"130.5\" y=\"-415.8\"> </text>\n",
       "<polygon fill=\"none\" points=\"8.5,-363 8.5,-400 171.5,-400 171.5,-363 8.5,-363\" stroke=\"black\"/>\n",
       "<text font-family=\"Times,serif\" font-size=\"14.00\" text-anchor=\"start\" x=\"19.5\" y=\"-378.8\">points </text>\n",
       "<text font-family=\"Times,serif\" font-size=\"14.00\" font-style=\"italic\" text-anchor=\"start\" x=\"59.5\" y=\"-378.8\">double</text>\n",
       "<text font-family=\"Times,serif\" font-size=\"14.00\" text-anchor=\"start\" x=\"99.5\" y=\"-378.8\"> </text>\n",
       "<polygon fill=\"none\" points=\"8.5,-326 8.5,-363 171.5,-363 171.5,-326 8.5,-326\" stroke=\"black\"/>\n",
       "<text font-family=\"Times,serif\" font-size=\"14.00\" text-anchor=\"start\" x=\"19.5\" y=\"-341.8\">laps </text>\n",
       "<text font-family=\"Times,serif\" font-size=\"14.00\" font-style=\"italic\" text-anchor=\"start\" x=\"46.5\" y=\"-341.8\">long</text>\n",
       "<text font-family=\"Times,serif\" font-size=\"14.00\" text-anchor=\"start\" x=\"73.5\" y=\"-341.8\"> </text>\n",
       "<polygon fill=\"none\" points=\"8.5,-289 8.5,-326 171.5,-326 171.5,-289 8.5,-289\" stroke=\"black\"/>\n",
       "<text font-family=\"Times,serif\" font-size=\"14.00\" text-anchor=\"start\" x=\"19.5\" y=\"-304.8\">time </text>\n",
       "<text font-family=\"Times,serif\" font-size=\"14.00\" font-style=\"italic\" text-anchor=\"start\" x=\"48.5\" y=\"-304.8\">String</text>\n",
       "<text font-family=\"Times,serif\" font-size=\"14.00\" text-anchor=\"start\" x=\"84.5\" y=\"-304.8\"> </text>\n",
       "<polygon fill=\"none\" points=\"8.5,-252 8.5,-289 171.5,-289 171.5,-252 8.5,-252\" stroke=\"black\"/>\n",
       "<text font-family=\"Times,serif\" font-size=\"14.00\" text-anchor=\"start\" x=\"19.5\" y=\"-267.8\">milliseconds </text>\n",
       "<text font-family=\"Times,serif\" font-size=\"14.00\" font-style=\"italic\" text-anchor=\"start\" x=\"95.5\" y=\"-267.8\">String</text>\n",
       "<text font-family=\"Times,serif\" font-size=\"14.00\" text-anchor=\"start\" x=\"131.5\" y=\"-267.8\"> </text>\n",
       "<polygon fill=\"none\" points=\"8.5,-215 8.5,-252 171.5,-252 171.5,-215 8.5,-215\" stroke=\"black\"/>\n",
       "<text font-family=\"Times,serif\" font-size=\"14.00\" text-anchor=\"start\" x=\"19.5\" y=\"-230.8\">fastestLap </text>\n",
       "<text font-family=\"Times,serif\" font-size=\"14.00\" font-style=\"italic\" text-anchor=\"start\" x=\"80.5\" y=\"-230.8\">String</text>\n",
       "<text font-family=\"Times,serif\" font-size=\"14.00\" text-anchor=\"start\" x=\"116.5\" y=\"-230.8\"> </text>\n",
       "<polygon fill=\"none\" points=\"8.5,-178 8.5,-215 171.5,-215 171.5,-178 8.5,-178\" stroke=\"black\"/>\n",
       "<text font-family=\"Times,serif\" font-size=\"14.00\" text-anchor=\"start\" x=\"19.5\" y=\"-193.8\">rank </text>\n",
       "<text font-family=\"Times,serif\" font-size=\"14.00\" font-style=\"italic\" text-anchor=\"start\" x=\"49.5\" y=\"-193.8\">String</text>\n",
       "<text font-family=\"Times,serif\" font-size=\"14.00\" text-anchor=\"start\" x=\"85.5\" y=\"-193.8\"> </text>\n",
       "<polygon fill=\"none\" points=\"8.5,-141 8.5,-178 171.5,-178 171.5,-141 8.5,-141\" stroke=\"black\"/>\n",
       "<text font-family=\"Times,serif\" font-size=\"14.00\" text-anchor=\"start\" x=\"19.5\" y=\"-156.8\">fastestLapTime </text>\n",
       "<text font-family=\"Times,serif\" font-size=\"14.00\" font-style=\"italic\" text-anchor=\"start\" x=\"110.5\" y=\"-156.8\">String</text>\n",
       "<text font-family=\"Times,serif\" font-size=\"14.00\" text-anchor=\"start\" x=\"146.5\" y=\"-156.8\"> </text>\n",
       "<polygon fill=\"none\" points=\"8.5,-104 8.5,-141 171.5,-141 171.5,-104 8.5,-104\" stroke=\"black\"/>\n",
       "<text font-family=\"Times,serif\" font-size=\"14.00\" text-anchor=\"start\" x=\"19.5\" y=\"-119.8\">fastestLapSpeed </text>\n",
       "<text font-family=\"Times,serif\" font-size=\"14.00\" font-style=\"italic\" text-anchor=\"start\" x=\"116.5\" y=\"-119.8\">double</text>\n",
       "<text font-family=\"Times,serif\" font-size=\"14.00\" text-anchor=\"start\" x=\"156.5\" y=\"-119.8\"> </text>\n",
       "<polygon fill=\"none\" points=\"8.5,-67 8.5,-104 171.5,-104 171.5,-67 8.5,-67\" stroke=\"black\"/>\n",
       "<text font-family=\"Times,serif\" font-size=\"14.00\" text-anchor=\"start\" x=\"19.5\" y=\"-82.8\">statusId </text>\n",
       "<text font-family=\"Times,serif\" font-size=\"14.00\" font-style=\"italic\" text-anchor=\"start\" x=\"67.5\" y=\"-82.8\">long</text>\n",
       "<text font-family=\"Times,serif\" font-size=\"14.00\" text-anchor=\"start\" x=\"94.5\" y=\"-82.8\"> </text>\n",
       "</g>\n",
       "<!-- F1 drivers -->\n",
       "<g class=\"node\" id=\"node2\">\n",
       "<title>F1 drivers</title>\n",
       "<polygon fill=\"none\" points=\"412,-945 412,-982 580,-982 580,-945 412,-945\" stroke=\"black\"/>\n",
       "<text font-family=\"Times,serif\" font-size=\"14.00\" font-weight=\"bold\" text-anchor=\"start\" x=\"464\" y=\"-960.8\">F1 drivers</text>\n",
       "<polygon fill=\"none\" points=\"412,-908 412,-945 580,-945 580,-908 412,-908\" stroke=\"black\"/>\n",
       "<text font-family=\"Times,serif\" font-size=\"14.00\" font-weight=\"bold\" text-anchor=\"start\" x=\"423\" y=\"-923.8\">Key</text>\n",
       "<text font-family=\"Times,serif\" font-size=\"14.00\" text-anchor=\"start\" x=\"448\" y=\"-923.8\">  driverId </text>\n",
       "<text font-family=\"Times,serif\" font-size=\"14.00\" font-style=\"italic\" text-anchor=\"start\" x=\"506\" y=\"-923.8\">long</text>\n",
       "<text font-family=\"Times,serif\" font-size=\"14.00\" text-anchor=\"start\" x=\"533\" y=\"-923.8\"> </text>\n",
       "<polygon fill=\"none\" points=\"412,-871 412,-908 580,-908 580,-871 412,-871\" stroke=\"black\"/>\n",
       "<text font-family=\"Times,serif\" font-size=\"14.00\" text-anchor=\"start\" x=\"423\" y=\"-886.8\">driverRef </text>\n",
       "<text font-family=\"Times,serif\" font-size=\"14.00\" font-style=\"italic\" text-anchor=\"start\" x=\"481\" y=\"-886.8\">String</text>\n",
       "<text font-family=\"Times,serif\" font-size=\"14.00\" text-anchor=\"start\" x=\"517\" y=\"-886.8\"> </text>\n",
       "<polygon fill=\"none\" points=\"412,-834 412,-871 580,-871 580,-834 412,-834\" stroke=\"black\"/>\n",
       "<text font-family=\"Times,serif\" font-size=\"14.00\" text-anchor=\"start\" x=\"423\" y=\"-849.8\">number </text>\n",
       "<text font-family=\"Times,serif\" font-size=\"14.00\" font-style=\"italic\" text-anchor=\"start\" x=\"472\" y=\"-849.8\">String</text>\n",
       "<text font-family=\"Times,serif\" font-size=\"14.00\" text-anchor=\"start\" x=\"508\" y=\"-849.8\"> </text>\n",
       "<polygon fill=\"none\" points=\"412,-797 412,-834 580,-834 580,-797 412,-797\" stroke=\"black\"/>\n",
       "<text font-family=\"Times,serif\" font-size=\"14.00\" text-anchor=\"start\" x=\"423\" y=\"-812.8\">code </text>\n",
       "<text font-family=\"Times,serif\" font-size=\"14.00\" font-style=\"italic\" text-anchor=\"start\" x=\"454\" y=\"-812.8\">String</text>\n",
       "<text font-family=\"Times,serif\" font-size=\"14.00\" text-anchor=\"start\" x=\"490\" y=\"-812.8\"> </text>\n",
       "<polygon fill=\"none\" points=\"412,-760 412,-797 580,-797 580,-760 412,-760\" stroke=\"black\"/>\n",
       "<text font-family=\"Times,serif\" font-size=\"14.00\" text-anchor=\"start\" x=\"423\" y=\"-775.8\">forename </text>\n",
       "<text font-family=\"Times,serif\" font-size=\"14.00\" font-style=\"italic\" text-anchor=\"start\" x=\"481\" y=\"-775.8\">String</text>\n",
       "<text font-family=\"Times,serif\" font-size=\"14.00\" text-anchor=\"start\" x=\"517\" y=\"-775.8\"> </text>\n",
       "<polygon fill=\"none\" points=\"412,-723 412,-760 580,-760 580,-723 412,-723\" stroke=\"black\"/>\n",
       "<text font-family=\"Times,serif\" font-size=\"14.00\" text-anchor=\"start\" x=\"423\" y=\"-738.8\">surname </text>\n",
       "<text font-family=\"Times,serif\" font-size=\"14.00\" font-style=\"italic\" text-anchor=\"start\" x=\"475\" y=\"-738.8\">String</text>\n",
       "<text font-family=\"Times,serif\" font-size=\"14.00\" text-anchor=\"start\" x=\"511\" y=\"-738.8\"> </text>\n",
       "<polygon fill=\"none\" points=\"412,-686 412,-723 580,-723 580,-686 412,-686\" stroke=\"black\"/>\n",
       "<text font-family=\"Times,serif\" font-size=\"14.00\" text-anchor=\"start\" x=\"423\" y=\"-701.8\">dob </text>\n",
       "<text font-family=\"Times,serif\" font-size=\"14.00\" font-style=\"italic\" text-anchor=\"start\" x=\"450\" y=\"-701.8\">LocalDate</text>\n",
       "<text font-family=\"Times,serif\" font-size=\"14.00\" text-anchor=\"start\" x=\"511\" y=\"-701.8\"> </text>\n",
       "<polygon fill=\"none\" points=\"412,-649 412,-686 580,-686 580,-649 412,-649\" stroke=\"black\"/>\n",
       "<text font-family=\"Times,serif\" font-size=\"14.00\" text-anchor=\"start\" x=\"423\" y=\"-664.8\">driver_nationality </text>\n",
       "<text font-family=\"Times,serif\" font-size=\"14.00\" font-style=\"italic\" text-anchor=\"start\" x=\"529\" y=\"-664.8\">String</text>\n",
       "<text font-family=\"Times,serif\" font-size=\"14.00\" text-anchor=\"start\" x=\"565\" y=\"-664.8\"> </text>\n",
       "<polygon fill=\"none\" points=\"412,-612 412,-649 580,-649 580,-612 412,-612\" stroke=\"black\"/>\n",
       "<text font-family=\"Times,serif\" font-size=\"14.00\" text-anchor=\"start\" x=\"423\" y=\"-627.8\">driver_url </text>\n",
       "<text font-family=\"Times,serif\" font-size=\"14.00\" font-style=\"italic\" text-anchor=\"start\" x=\"484\" y=\"-627.8\">String</text>\n",
       "<text font-family=\"Times,serif\" font-size=\"14.00\" text-anchor=\"start\" x=\"520\" y=\"-627.8\"> </text>\n",
       "</g>\n",
       "<!-- F1 results&#45;&gt;F1 drivers -->\n",
       "<g class=\"edge\" id=\"edge3\">\n",
       "<title>F1 results-&gt;F1 drivers</title>\n",
       "<path d=\"M179.27,-501.95C243.43,-561.91 330.11,-642.91 396.41,-704.87\" fill=\"none\" stroke=\"black\"/>\n",
       "<polygon fill=\"black\" points=\"394.29,-707.68 403.99,-711.95 399.07,-702.56 394.29,-707.68\" stroke=\"black\"/>\n",
       "<text font-family=\"Times,serif\" font-size=\"14.00\" text-anchor=\"middle\" x=\"284\" y=\"-677.8\">driverId → driverId</text>\n",
       "</g>\n",
       "<!-- F1 races -->\n",
       "<g class=\"node\" id=\"node3\">\n",
       "<title>F1 races</title>\n",
       "<polygon fill=\"none\" points=\"433,-548 433,-585 560,-585 560,-548 433,-548\" stroke=\"black\"/>\n",
       "<text font-family=\"Times,serif\" font-size=\"14.00\" font-weight=\"bold\" text-anchor=\"start\" x=\"470.5\" y=\"-563.8\">F1 races</text>\n",
       "<polygon fill=\"none\" points=\"433,-511 433,-548 560,-548 560,-511 433,-511\" stroke=\"black\"/>\n",
       "<text font-family=\"Times,serif\" font-size=\"14.00\" font-weight=\"bold\" text-anchor=\"start\" x=\"444\" y=\"-526.8\">Key</text>\n",
       "<text font-family=\"Times,serif\" font-size=\"14.00\" text-anchor=\"start\" x=\"469\" y=\"-526.8\">  raceId </text>\n",
       "<text font-family=\"Times,serif\" font-size=\"14.00\" font-style=\"italic\" text-anchor=\"start\" x=\"515\" y=\"-526.8\">long</text>\n",
       "<text font-family=\"Times,serif\" font-size=\"14.00\" text-anchor=\"start\" x=\"542\" y=\"-526.8\"> </text>\n",
       "<polygon fill=\"none\" points=\"433,-474 433,-511 560,-511 560,-474 433,-474\" stroke=\"black\"/>\n",
       "<text font-family=\"Times,serif\" font-size=\"14.00\" text-anchor=\"start\" x=\"444\" y=\"-489.8\">year </text>\n",
       "<text font-family=\"Times,serif\" font-size=\"14.00\" font-style=\"italic\" text-anchor=\"start\" x=\"472\" y=\"-489.8\">String</text>\n",
       "<text font-family=\"Times,serif\" font-size=\"14.00\" text-anchor=\"start\" x=\"508\" y=\"-489.8\"> </text>\n",
       "<polygon fill=\"none\" points=\"433,-437 433,-474 560,-474 560,-437 433,-437\" stroke=\"black\"/>\n",
       "<text font-family=\"Times,serif\" font-size=\"14.00\" text-anchor=\"start\" x=\"444\" y=\"-452.8\">round </text>\n",
       "<text font-family=\"Times,serif\" font-size=\"14.00\" font-style=\"italic\" text-anchor=\"start\" x=\"483\" y=\"-452.8\">long</text>\n",
       "<text font-family=\"Times,serif\" font-size=\"14.00\" text-anchor=\"start\" x=\"510\" y=\"-452.8\"> </text>\n",
       "<polygon fill=\"none\" points=\"433,-400 433,-437 560,-437 560,-400 433,-400\" stroke=\"black\"/>\n",
       "<text font-family=\"Times,serif\" font-size=\"14.00\" text-anchor=\"start\" x=\"444\" y=\"-415.8\">circuitId </text>\n",
       "<text font-family=\"Times,serif\" font-size=\"14.00\" font-style=\"italic\" text-anchor=\"start\" x=\"496\" y=\"-415.8\">long</text>\n",
       "<text font-family=\"Times,serif\" font-size=\"14.00\" text-anchor=\"start\" x=\"523\" y=\"-415.8\"> </text>\n",
       "<polygon fill=\"none\" points=\"433,-363 433,-400 560,-400 560,-363 433,-363\" stroke=\"black\"/>\n",
       "<text font-family=\"Times,serif\" font-size=\"14.00\" text-anchor=\"start\" x=\"444\" y=\"-378.8\">race_name </text>\n",
       "<text font-family=\"Times,serif\" font-size=\"14.00\" font-style=\"italic\" text-anchor=\"start\" x=\"509\" y=\"-378.8\">String</text>\n",
       "<text font-family=\"Times,serif\" font-size=\"14.00\" text-anchor=\"start\" x=\"545\" y=\"-378.8\"> </text>\n",
       "<polygon fill=\"none\" points=\"433,-326 433,-363 560,-363 560,-326 433,-326\" stroke=\"black\"/>\n",
       "<text font-family=\"Times,serif\" font-size=\"14.00\" text-anchor=\"start\" x=\"444\" y=\"-341.8\">date </text>\n",
       "<text font-family=\"Times,serif\" font-size=\"14.00\" font-style=\"italic\" text-anchor=\"start\" x=\"472\" y=\"-341.8\">LocalDate</text>\n",
       "<text font-family=\"Times,serif\" font-size=\"14.00\" text-anchor=\"start\" x=\"533\" y=\"-341.8\"> </text>\n",
       "<polygon fill=\"none\" points=\"433,-289 433,-326 560,-326 560,-289 433,-289\" stroke=\"black\"/>\n",
       "<text font-family=\"Times,serif\" font-size=\"14.00\" text-anchor=\"start\" x=\"444\" y=\"-304.8\">time </text>\n",
       "<text font-family=\"Times,serif\" font-size=\"14.00\" font-style=\"italic\" text-anchor=\"start\" x=\"473\" y=\"-304.8\">String</text>\n",
       "<text font-family=\"Times,serif\" font-size=\"14.00\" text-anchor=\"start\" x=\"509\" y=\"-304.8\"> </text>\n",
       "<polygon fill=\"none\" points=\"433,-252 433,-289 560,-289 560,-252 433,-252\" stroke=\"black\"/>\n",
       "<text font-family=\"Times,serif\" font-size=\"14.00\" text-anchor=\"start\" x=\"444\" y=\"-267.8\">race_url </text>\n",
       "<text font-family=\"Times,serif\" font-size=\"14.00\" font-style=\"italic\" text-anchor=\"start\" x=\"494\" y=\"-267.8\">String</text>\n",
       "<text font-family=\"Times,serif\" font-size=\"14.00\" text-anchor=\"start\" x=\"530\" y=\"-267.8\"> </text>\n",
       "</g>\n",
       "<!-- F1 results&#45;&gt;F1 races -->\n",
       "<g class=\"edge\" id=\"edge2\">\n",
       "<title>F1 results-&gt;F1 races</title>\n",
       "<path d=\"M179.27,-419C249.28,-419 346.12,-419 414.03,-419\" fill=\"none\" stroke=\"black\"/>\n",
       "<polygon fill=\"black\" points=\"414.25,-422.5 424.25,-419 414.25,-415.5 414.25,-422.5\" stroke=\"black\"/>\n",
       "<text font-family=\"Times,serif\" font-size=\"14.00\" text-anchor=\"middle\" x=\"284\" y=\"-422.8\">raceId → raceId</text>\n",
       "</g>\n",
       "<!-- F1 constructors -->\n",
       "<g class=\"node\" id=\"node4\">\n",
       "<title>F1 constructors</title>\n",
       "<polygon fill=\"none\" points=\"397,-189 397,-226 595,-226 595,-189 397,-189\" stroke=\"black\"/>\n",
       "<text font-family=\"Times,serif\" font-size=\"14.00\" font-weight=\"bold\" text-anchor=\"start\" x=\"448\" y=\"-204.8\">F1 constructors</text>\n",
       "<polygon fill=\"none\" points=\"397,-152 397,-189 595,-189 595,-152 397,-152\" stroke=\"black\"/>\n",
       "<text font-family=\"Times,serif\" font-size=\"14.00\" font-weight=\"bold\" text-anchor=\"start\" x=\"408\" y=\"-167.8\">Key</text>\n",
       "<text font-family=\"Times,serif\" font-size=\"14.00\" text-anchor=\"start\" x=\"433\" y=\"-167.8\">  constructorId </text>\n",
       "<text font-family=\"Times,serif\" font-size=\"14.00\" font-style=\"italic\" text-anchor=\"start\" x=\"521\" y=\"-167.8\">long</text>\n",
       "<text font-family=\"Times,serif\" font-size=\"14.00\" text-anchor=\"start\" x=\"548\" y=\"-167.8\"> </text>\n",
       "<polygon fill=\"none\" points=\"397,-115 397,-152 595,-152 595,-115 397,-115\" stroke=\"black\"/>\n",
       "<text font-family=\"Times,serif\" font-size=\"14.00\" text-anchor=\"start\" x=\"408\" y=\"-130.8\">constructorRef </text>\n",
       "<text font-family=\"Times,serif\" font-size=\"14.00\" font-style=\"italic\" text-anchor=\"start\" x=\"496\" y=\"-130.8\">String</text>\n",
       "<text font-family=\"Times,serif\" font-size=\"14.00\" text-anchor=\"start\" x=\"532\" y=\"-130.8\"> </text>\n",
       "<polygon fill=\"none\" points=\"397,-78 397,-115 595,-115 595,-78 397,-78\" stroke=\"black\"/>\n",
       "<text font-family=\"Times,serif\" font-size=\"14.00\" text-anchor=\"start\" x=\"408\" y=\"-93.8\">constructor_name </text>\n",
       "<text font-family=\"Times,serif\" font-size=\"14.00\" font-style=\"italic\" text-anchor=\"start\" x=\"514\" y=\"-93.8\">String</text>\n",
       "<text font-family=\"Times,serif\" font-size=\"14.00\" text-anchor=\"start\" x=\"550\" y=\"-93.8\"> </text>\n",
       "<polygon fill=\"none\" points=\"397,-41 397,-78 595,-78 595,-41 397,-41\" stroke=\"black\"/>\n",
       "<text font-family=\"Times,serif\" font-size=\"14.00\" text-anchor=\"start\" x=\"408\" y=\"-56.8\">constructor_nationality </text>\n",
       "<text font-family=\"Times,serif\" font-size=\"14.00\" font-style=\"italic\" text-anchor=\"start\" x=\"544\" y=\"-56.8\">String</text>\n",
       "<text font-family=\"Times,serif\" font-size=\"14.00\" text-anchor=\"start\" x=\"580\" y=\"-56.8\"> </text>\n",
       "<polygon fill=\"none\" points=\"397,-4 397,-41 595,-41 595,-4 397,-4\" stroke=\"black\"/>\n",
       "<text font-family=\"Times,serif\" font-size=\"14.00\" text-anchor=\"start\" x=\"408\" y=\"-19.8\">constructor_url </text>\n",
       "<text font-family=\"Times,serif\" font-size=\"14.00\" font-style=\"italic\" text-anchor=\"start\" x=\"499\" y=\"-19.8\">String</text>\n",
       "<text font-family=\"Times,serif\" font-size=\"14.00\" text-anchor=\"start\" x=\"535\" y=\"-19.8\"> </text>\n",
       "</g>\n",
       "<!-- F1 results&#45;&gt;F1 constructors -->\n",
       "<g class=\"edge\" id=\"edge1\">\n",
       "<title>F1 results-&gt;F1 constructors</title>\n",
       "<path d=\"M179.27,-352.29C238.48,-307.79 316.88,-248.86 380.74,-200.87\" fill=\"none\" stroke=\"black\"/>\n",
       "<polygon fill=\"black\" points=\"382.96,-203.58 388.85,-194.77 378.76,-197.98 382.96,-203.58\" stroke=\"black\"/>\n",
       "<text font-family=\"Times,serif\" font-size=\"14.00\" text-anchor=\"middle\" x=\"284\" y=\"-340.8\">constructorId → constructorId</text>\n",
       "</g>\n",
       "</g>\n",
       "</svg>"
      ],
      "text/plain": [
       "<IPython.core.display.SVG object>"
      ]
     },
     "execution_count": 10,
     "metadata": {},
     "output_type": "execute_result"
    }
   ],
   "source": [
    "f1cube.schema"
   ]
  },
  {
   "cell_type": "code",
   "execution_count": 11,
   "metadata": {},
   "outputs": [],
   "source": [
    "lvl = f1cube.levels\n",
    "m = f1cube.measures\n",
    "h = f1cube.hierarchies"
   ]
  },
  {
   "cell_type": "markdown",
   "metadata": {},
   "source": [
    "## Analysis\n",
    "\n",
    "### Driver with the most races\n",
    "\n",
    "Barichello has cumulated more than 326 races over his career!"
   ]
  },
  {
   "cell_type": "code",
   "execution_count": 13,
   "metadata": {
    "activeviam": {
     "state": {
      "name": "Total number of races by driver",
      "type": "container",
      "value": {
       "body": {
        "configuration": {
         "tabular": {
          "columnOrder": {
           "args": {
            "orderedColumns": [
             "[Hierarchies].[driverRef].[driverRef]",
             "[Hierarchies].[driverId].[driverId]",
             "[Measures].[contributors.COUNT]"
            ]
           },
           "key": "explicit"
          },
          "columnsGroups": [
           {
            "captionProducer": "firstColumn",
            "cellFactory": "kpi-status",
            "selector": "kpi-status"
           },
           {
            "captionProducer": "firstColumn",
            "cellFactory": "lookup",
            "selector": "lookup"
           },
           {
            "captionProducer": "expiry",
            "cellFactory": "expiry",
            "selector": "kpi-expiry"
           }
          ],
          "defaultOptions": {},
          "hideAddButton": true,
          "lineNumbers": true,
          "sortingMode": "breaking",
          "statisticsShown": true
         }
        },
        "contextValues": {},
        "mdx": "WITH  Member [Measures].[[Hierarchies]].[driverRef]].[driverRef]]_for_order] AS [Hierarchies].[driverRef].CurrentMember.MEMBER_VALUE  SELECT NON EMPTY Order(Crossjoin([Hierarchies].[driverRef].[driverRef].Members, [Hierarchies].[driverId].[driverId].Members), [Measures].[contributors.COUNT], BDESC) ON ROWS, [Measures].[contributors.COUNT] ON COLUMNS FROM [F1Cube] CELL PROPERTIES BACK_COLOR, FONT_FLAGS, FORE_COLOR, FORMATTED_VALUE, VALUE",
        "ranges": {
         "column": {
          "chunkSize": 50,
          "thresholdPercentage": 0.2
         },
         "row": {
          "chunkSize": 2000,
          "thresholdPercentage": 0.1
         }
        },
        "serverUrl": "",
        "updateMode": "once"
       },
       "containerKey": "tabular-view",
       "showTitleBar": false,
       "style": {}
      }
     }
    },
    "atoti": {
     "state": {
      "name": "Total number of races per driver",
      "type": "container",
      "value": {
       "body": {
        "configuration": {
         "tabular": {
          "addButtonFilter": "numeric",
          "columnOrder": {
           "args": {
            "orderedColumns": [
             "__lineNumber__",
             "c-treeCells-member",
             "[Measures].[contributors.COUNT]"
            ]
           },
           "key": "explicit"
          },
          "columnsGroups": [
           {
            "captionProducer": "firstColumn",
            "cellFactory": "kpi-status",
            "selector": "kpi-status"
           },
           {
            "captionProducer": "firstColumn",
            "cellFactory": "lookup",
            "selector": "lookup"
           },
           {
            "captionProducer": "expiry",
            "cellFactory": "expiry",
            "selector": "kpi-expiry"
           },
           {
            "captionProducer": "columnMerge",
            "cellFactory": {
             "args": {
              "automaticExpansion": true
             },
             "key": "treeCells"
            },
            "selector": "member"
           }
          ],
          "defaultOptions": {},
          "hideAddButton": true,
          "lineNumbers": true,
          "pinnedHeaderSelector": "member",
          "sortingMode": "non-breaking",
          "statisticsShown": true
         }
        },
        "contextValues": {},
        "mdx": "SELECT NON EMPTY [Measures].[contributors.COUNT] ON COLUMNS, NON EMPTY Order([Hierarchies].[driverRef].[driverRef].Members, [Measures].[contributors.COUNT], DESC) ON ROWS FROM [F1Cube] CELL PROPERTIES VALUE, FORMATTED_VALUE, BACK_COLOR, FORE_COLOR, FONT_FLAGS",
        "ranges": {
         "column": {
          "chunkSize": 50,
          "thresholdPercentage": 0.2
         },
         "row": {
          "chunkSize": 2000,
          "thresholdPercentage": 0.1
         }
        },
        "serverUrl": "",
        "updateMode": "once"
       },
       "containerKey": "pivot-table",
       "showTitleBar": false,
       "style": {}
      }
     }
    }
   },
   "outputs": [
    {
     "data": {
      "application/vnd.atoti.v0+json": {
       "cube": "F1Cube",
       "name": "Total number of races per driver",
       "session": "Unnamed"
      },
      "text/plain": [
       "Install and enable the atoti JupyterLab extension to see this widget."
      ]
     },
     "metadata": {},
     "output_type": "display_data"
    }
   ],
   "source": [
    "f1cube.visualize(\"Total number of races per driver\")"
   ]
  },
  {
   "cell_type": "markdown",
   "metadata": {},
   "source": [
    "### Fastest drivers\n",
    "\n"
   ]
  },
  {
   "cell_type": "code",
   "execution_count": 17,
   "metadata": {},
   "outputs": [],
   "source": [
    "# Update when https://github.com/atoti/atoti/issues/77 is fixed\n",
    "m[\"fastestLapSpeed.VALUE\"] = results_store[\"fastestLapSpeed\"]\n",
    "m[\"fastestLapSpeed.MIN\"] = tt.agg.min(tt.where(m[\"fastestLapSpeed.VALUE\"] > 0, results_store[\"fastestLapSpeed\"], None))\n",
    "m[\"Fastest driver\"] = tt.agg.min_member(m[\"fastestLapSpeed.MIN\"], lvl[\"driverRef\"])\n",
    "m[\"Fastest year\"] = tt.agg.min_member(m[\"fastestLapSpeed.MIN\"], lvl[\"year\"])"
   ]
  },
  {
   "cell_type": "code",
   "execution_count": 19,
   "metadata": {
    "atoti": {
     "state": {
      "name": "",
      "type": "container",
      "value": {
       "body": {
        "configuration": {
         "tabular": {
          "addButtonFilter": "numeric",
          "columnOrder": {
           "args": {
            "orderedColumns": [
             "c-treeCells-member",
             "[Measures].[Fastest driver]",
             "[Measures].[Fastest year]",
             "[Measures].[fastestLapSpeed.MIN]"
            ]
           },
           "key": "explicit"
          },
          "columns": [],
          "columnsGroups": [
           {
            "captionProducer": "firstColumn",
            "cellFactory": "kpi-status",
            "selector": "kpi-status"
           },
           {
            "captionProducer": "firstColumn",
            "cellFactory": "lookup",
            "selector": "lookup"
           },
           {
            "captionProducer": "expiry",
            "cellFactory": "expiry",
            "selector": "kpi-expiry"
           },
           {
            "captionProducer": "columnMerge",
            "cellFactory": {
             "args": {},
             "key": "treeCells"
            },
            "selector": "member"
           }
          ],
          "defaultOptions": {},
          "expansion": {
           "automaticExpansion": true
          },
          "hideAddButton": true,
          "pinnedHeaderSelector": "member",
          "sortingMode": "non-breaking",
          "statisticsShown": true
         }
        },
        "contextValues": {},
        "mdx": "SELECT NON EMPTY {[Measures].[Fastest driver], [Measures].[Fastest year], [Measures].[fastestLapSpeed.MIN]} ON COLUMNS, NON EMPTY Order([Hierarchies].[race_name].[race_name].Members, [Measures].[Fastest year], ASC) ON ROWS FROM [F1Cube] CELL PROPERTIES VALUE, FORMATTED_VALUE, BACK_COLOR, FORE_COLOR, FONT_FLAGS",
        "ranges": {
         "column": {
          "chunkSize": 50,
          "thresholdPercentage": 0.2
         },
         "row": {
          "chunkSize": 2000,
          "thresholdPercentage": 0.1
         }
        },
        "serverUrl": "",
        "updateMode": "once"
       },
       "containerKey": "pivot-table",
       "showTitleBar": false,
       "style": {}
      }
     }
    }
   },
   "outputs": [
    {
     "data": {
      "application/vnd.atoti.v0+json": {
       "cube": "F1Cube",
       "name": null,
       "session": "Unnamed"
      },
      "text/plain": [
       "Install and enable the atoti JupyterLab extension to see this widget."
      ]
     },
     "metadata": {},
     "output_type": "display_data"
    }
   ],
   "source": [
    "f1cube.visualize()"
   ]
  },
  {
   "cell_type": "markdown",
   "metadata": {},
   "source": [
    "### Top driver and constructors\n",
    "\n",
    "Let's create some measures to return the driver and constructor with the most points."
   ]
  },
  {
   "cell_type": "code",
   "execution_count": 22,
   "metadata": {},
   "outputs": [],
   "source": [
    "m[\"Top driver\"] = tt.agg.max_member(m[\"points.SUM\"], lvl[\"driverRef\"])\n",
    "m[\"Top constructor\"] = tt.agg.max_member(m[\"points.SUM\"], lvl[\"constructor_name\"])"
   ]
  },
  {
   "cell_type": "code",
   "execution_count": 24,
   "metadata": {
    "atoti": {
     "state": {
      "name": "Top driver by year",
      "type": "container",
      "value": {
       "body": {
        "configuration": {
         "tabular": {
          "addButtonFilter": "numeric",
          "columns": [
           {
            "key": "c-treeCells-member",
            "width": 177
           },
           {
            "key": "[Measures].[points.SUM]",
            "width": 108
           },
           {
            "key": "[Measures].[Champion Points]",
            "width": 133
           },
           {
            "key": "[Measures].[Driver Points MAX]",
            "width": 146
           },
           {
            "key": "[Measures].[Champion Points2]",
            "width": 150
           }
          ],
          "columnsGroups": [
           {
            "captionProducer": "firstColumn",
            "cellFactory": "kpi-status",
            "selector": "kpi-status"
           },
           {
            "captionProducer": "firstColumn",
            "cellFactory": "lookup",
            "selector": "lookup"
           },
           {
            "captionProducer": "expiry",
            "cellFactory": "expiry",
            "selector": "kpi-expiry"
           },
           {
            "captionProducer": "columnMerge",
            "cellFactory": {
             "args": {
              "automaticExpansion": true
             },
             "key": "treeCells"
            },
            "selector": "member"
           }
          ],
          "defaultOptions": {},
          "hideAddButton": true,
          "lineNumbers": true,
          "pinnedHeaderSelector": "member",
          "sortingMode": "non-breaking",
          "statisticsShown": true
         }
        },
        "contextValues": {
         "F1Cube": {
          "mdx.aggressiveFormulaEvaluation": false
         }
        },
        "mdx": "WITH  Member [Measures].[[Hierarchies]].[year]].[year]]_for_order] AS [Hierarchies].[year].CurrentMember.MEMBER_VALUE  SELECT NON EMPTY {[Measures].[Top driver]} ON COLUMNS, NON EMPTY Order([Hierarchies].[year].[year].Members, [Measures].[[Hierarchies]].[year]].[year]]_for_order], DESC) ON ROWS FROM [F1Cube] CELL PROPERTIES BACK_COLOR, FONT_FLAGS, FORE_COLOR, FORMATTED_VALUE, VALUE",
        "ranges": {
         "column": {
          "chunkSize": 50,
          "thresholdPercentage": 0.2
         },
         "row": {
          "chunkSize": 2000,
          "thresholdPercentage": 0.1
         }
        },
        "serverUrl": "",
        "updateMode": "once"
       },
       "containerKey": "pivot-table",
       "showTitleBar": false,
       "style": {}
      }
     }
    }
   },
   "outputs": [
    {
     "data": {
      "application/vnd.atoti.v0+json": {
       "cube": "F1Cube",
       "name": "Top driver by year",
       "session": "Unnamed"
      },
      "text/plain": [
       "Install and enable the atoti JupyterLab extension to see this widget."
      ]
     },
     "metadata": {},
     "output_type": "display_data"
    }
   ],
   "source": [
    "f1cube.visualize(\"Top driver by year\")"
   ]
  },
  {
   "cell_type": "code",
   "execution_count": 26,
   "metadata": {
    "atoti": {
     "state": {
      "name": "Top constructor by year",
      "type": "container",
      "value": {
       "body": {
        "configuration": {
         "tabular": {
          "addButtonFilter": "numeric",
          "columnsGroups": [
           {
            "captionProducer": "firstColumn",
            "cellFactory": "kpi-status",
            "selector": "kpi-status"
           },
           {
            "captionProducer": "firstColumn",
            "cellFactory": "lookup",
            "selector": "lookup"
           },
           {
            "captionProducer": "expiry",
            "cellFactory": "expiry",
            "selector": "kpi-expiry"
           },
           {
            "captionProducer": "columnMerge",
            "cellFactory": {
             "args": {},
             "key": "treeCells"
            },
            "selector": "member"
           }
          ],
          "defaultOptions": {},
          "expansion": {
           "automaticExpansion": true
          },
          "hideAddButton": true,
          "pinnedHeaderSelector": "member",
          "sortingMode": "non-breaking",
          "statisticsShown": true
         }
        },
        "contextValues": {},
        "mdx": "WITH  Member [Measures].[[Hierarchies]].[year]].[year]]_for_order] AS [Hierarchies].[year].CurrentMember.MEMBER_VALUE  SELECT NON EMPTY [Measures].[Top constructor] ON COLUMNS, NON EMPTY Order([Hierarchies].[year].[year].Members, [Measures].[[Hierarchies]].[year]].[year]]_for_order], DESC) ON ROWS FROM [F1Cube] CELL PROPERTIES BACK_COLOR, FONT_FLAGS, FORE_COLOR, FORMATTED_VALUE, VALUE",
        "ranges": {
         "column": {
          "chunkSize": 50,
          "thresholdPercentage": 0.2
         },
         "row": {
          "chunkSize": 2000,
          "thresholdPercentage": 0.1
         }
        },
        "serverUrl": "",
        "updateMode": "once"
       },
       "containerKey": "pivot-table",
       "showTitleBar": false,
       "style": {}
      }
     }
    }
   },
   "outputs": [
    {
     "data": {
      "application/vnd.atoti.v0+json": {
       "cube": "F1Cube",
       "name": "Top constructor by year",
       "session": "Unnamed"
      },
      "text/plain": [
       "Install and enable the atoti JupyterLab extension to see this widget."
      ]
     },
     "metadata": {},
     "output_type": "display_data"
    }
   ],
   "source": [
    "f1cube.visualize(\"Top constructor by year\")"
   ]
  },
  {
   "cell_type": "markdown",
   "metadata": {},
   "source": [
    "Lewis Hamilton and it's team Mercedes have been dominating the championship for almost the last 6 years.\n",
    "\n",
    "Let's compare driver's total points:"
   ]
  },
  {
   "cell_type": "code",
   "execution_count": 28,
   "metadata": {
    "atoti": {
     "state": {
      "name": "Total points per drivers",
      "type": "container",
      "value": {
       "body": {
        "configuration": {
         "tabular": {
          "addButtonFilter": "numeric",
          "columnsGroups": [
           {
            "captionProducer": "firstColumn",
            "cellFactory": "kpi-status",
            "selector": "kpi-status"
           },
           {
            "captionProducer": "firstColumn",
            "cellFactory": "lookup",
            "selector": "lookup"
           },
           {
            "captionProducer": "expiry",
            "cellFactory": "expiry",
            "selector": "kpi-expiry"
           },
           {
            "captionProducer": "columnMerge",
            "cellFactory": {
             "args": {},
             "key": "treeCells"
            },
            "selector": "member"
           }
          ],
          "defaultOptions": {},
          "expansion": {
           "automaticExpansion": true
          },
          "hideAddButton": true,
          "pinnedHeaderSelector": "member",
          "sortingMode": "non-breaking",
          "statisticsShown": true
         }
        },
        "contextValues": {},
        "mdx": "SELECT NON EMPTY Order(DrilldownLevel([Hierarchies].[driverRef].[ALL].[AllMember]), [Measures].[points.SUM], DESC) ON ROWS, NON EMPTY [Measures].[points.SUM] ON COLUMNS FROM [F1Cube] CELL PROPERTIES VALUE, FORMATTED_VALUE, BACK_COLOR, FORE_COLOR, FONT_FLAGS",
        "ranges": {
         "column": {
          "chunkSize": 50,
          "thresholdPercentage": 0.2
         },
         "row": {
          "chunkSize": 2000,
          "thresholdPercentage": 0.1
         }
        },
        "serverUrl": "",
        "updateMode": "once"
       },
       "containerKey": "pivot-table",
       "showTitleBar": false,
       "style": {}
      }
     }
    }
   },
   "outputs": [
    {
     "data": {
      "application/vnd.atoti.v0+json": {
       "cube": "F1Cube",
       "name": "Total points per drivers",
       "session": "Unnamed"
      },
      "text/plain": [
       "Install and enable the atoti JupyterLab extension to see this widget."
      ]
     },
     "metadata": {},
     "output_type": "display_data"
    }
   ],
   "source": [
    "f1cube.visualize(\"Total points per drivers\")"
   ]
  },
  {
   "cell_type": "markdown",
   "metadata": {},
   "source": [
    "Hamilton is the driver with the most points ever. However, it's unfair to compare points accross seasons since the scoring systems are not constant and most recent seasons award more points to drivers. This explains why pilots like Hamilton and Vettel have much more points than Schumacher while having ran and scored less races.\n",
    "\n",
    "### Different scoring systems\n",
    "\n",
    "Scoring rules for Formula One have [changed over time](https://en.wikipedia.org/wiki/List_of_Formula_One_World_Championship_points_scoring_systems). To make a fair comparison, let's normalize the points across all years by applying a constant scoring across all seasons.\n",
    "\n",
    "First, we'll determine the maximum position across all seasons:"
   ]
  },
  {
   "cell_type": "code",
   "execution_count": 30,
   "metadata": {},
   "outputs": [],
   "source": [
    "m[\"position.MAX\"] = tt.agg.max(results_store[\"position\"])"
   ]
  },
  {
   "cell_type": "code",
   "execution_count": 31,
   "metadata": {},
   "outputs": [
    {
     "data": {
      "text/html": [
       "<div>\n",
       "<style scoped>\n",
       "    .dataframe tbody tr th:only-of-type {\n",
       "        vertical-align: middle;\n",
       "    }\n",
       "\n",
       "    .dataframe tbody tr th {\n",
       "        vertical-align: top;\n",
       "    }\n",
       "\n",
       "    .dataframe thead th {\n",
       "        text-align: right;\n",
       "    }\n",
       "</style>\n",
       "<table border=\"1\" class=\"dataframe\">\n",
       "  <thead>\n",
       "    <tr style=\"text-align: right;\">\n",
       "      <th></th>\n",
       "      <th>position.MAX</th>\n",
       "    </tr>\n",
       "  </thead>\n",
       "  <tbody>\n",
       "    <tr>\n",
       "      <th>0</th>\n",
       "      <td>33</td>\n",
       "    </tr>\n",
       "  </tbody>\n",
       "</table>\n",
       "</div>"
      ],
      "text/plain": [
       "   position.MAX\n",
       "0            33"
      ]
     },
     "execution_count": 31,
     "metadata": {},
     "output_type": "execute_result"
    }
   ],
   "source": [
    "maxPositionDf = f1cube.query(m[\"position.MAX\"])\n",
    "maxPositionDf"
   ]
  },
  {
   "cell_type": "markdown",
   "metadata": {},
   "source": [
    "This means that there has never been more than 33 drivers in one race. We'll use that information to create a data frame representing the different points awarded by positions across all scoring system:"
   ]
  },
  {
   "cell_type": "code",
   "execution_count": 32,
   "metadata": {},
   "outputs": [],
   "source": [
    "# index = scoring systen\n",
    "scoring_systems = [\n",
    "    \"Scoring 1950 to 1959\",\n",
    "    \"Scoring 1960\",\n",
    "    \"Scoring 1961 to 1990\",\n",
    "    \"Scoring 1991 to 2002\",\n",
    "    \"Scoring 2003 to 2009\",\n",
    "    \"Scoring 2010 to 2013\",\n",
    "    \"Scoring 2014\",\n",
    "    \"Scoring 2015 to 2018\",\n",
    "    \"Scoring 2019\",\n",
    "]\n",
    "scoring_positions = np.arange(1, maxPositionDf[\"position.MAX\"][0] + 1)\n",
    "\n",
    "# a column for each position\n",
    "# values = number of points scored for this year's race position\n",
    "dfscoring = pd.DataFrame(0, index=scoring_systems, columns=scoring_positions,)"
   ]
  },
  {
   "cell_type": "code",
   "execution_count": 33,
   "metadata": {},
   "outputs": [
    {
     "data": {
      "text/html": [
       "<div>\n",
       "<style scoped>\n",
       "    .dataframe tbody tr th:only-of-type {\n",
       "        vertical-align: middle;\n",
       "    }\n",
       "\n",
       "    .dataframe tbody tr th {\n",
       "        vertical-align: top;\n",
       "    }\n",
       "\n",
       "    .dataframe thead th {\n",
       "        text-align: right;\n",
       "    }\n",
       "</style>\n",
       "<table border=\"1\" class=\"dataframe\">\n",
       "  <thead>\n",
       "    <tr style=\"text-align: right;\">\n",
       "      <th></th>\n",
       "      <th>1</th>\n",
       "      <th>2</th>\n",
       "      <th>3</th>\n",
       "      <th>4</th>\n",
       "      <th>5</th>\n",
       "      <th>6</th>\n",
       "      <th>7</th>\n",
       "      <th>8</th>\n",
       "      <th>9</th>\n",
       "      <th>10</th>\n",
       "      <th>...</th>\n",
       "      <th>24</th>\n",
       "      <th>25</th>\n",
       "      <th>26</th>\n",
       "      <th>27</th>\n",
       "      <th>28</th>\n",
       "      <th>29</th>\n",
       "      <th>30</th>\n",
       "      <th>31</th>\n",
       "      <th>32</th>\n",
       "      <th>33</th>\n",
       "    </tr>\n",
       "  </thead>\n",
       "  <tbody>\n",
       "    <tr>\n",
       "      <th>Scoring 1950 to 1959</th>\n",
       "      <td>8</td>\n",
       "      <td>6</td>\n",
       "      <td>4</td>\n",
       "      <td>3</td>\n",
       "      <td>2</td>\n",
       "      <td>0</td>\n",
       "      <td>0</td>\n",
       "      <td>0</td>\n",
       "      <td>0</td>\n",
       "      <td>0</td>\n",
       "      <td>...</td>\n",
       "      <td>0</td>\n",
       "      <td>0</td>\n",
       "      <td>0</td>\n",
       "      <td>0</td>\n",
       "      <td>0</td>\n",
       "      <td>0</td>\n",
       "      <td>0</td>\n",
       "      <td>0</td>\n",
       "      <td>0</td>\n",
       "      <td>0</td>\n",
       "    </tr>\n",
       "    <tr>\n",
       "      <th>Scoring 1960</th>\n",
       "      <td>8</td>\n",
       "      <td>6</td>\n",
       "      <td>4</td>\n",
       "      <td>3</td>\n",
       "      <td>2</td>\n",
       "      <td>1</td>\n",
       "      <td>0</td>\n",
       "      <td>0</td>\n",
       "      <td>0</td>\n",
       "      <td>0</td>\n",
       "      <td>...</td>\n",
       "      <td>0</td>\n",
       "      <td>0</td>\n",
       "      <td>0</td>\n",
       "      <td>0</td>\n",
       "      <td>0</td>\n",
       "      <td>0</td>\n",
       "      <td>0</td>\n",
       "      <td>0</td>\n",
       "      <td>0</td>\n",
       "      <td>0</td>\n",
       "    </tr>\n",
       "    <tr>\n",
       "      <th>Scoring 1961 to 1990</th>\n",
       "      <td>9</td>\n",
       "      <td>6</td>\n",
       "      <td>4</td>\n",
       "      <td>3</td>\n",
       "      <td>2</td>\n",
       "      <td>1</td>\n",
       "      <td>0</td>\n",
       "      <td>0</td>\n",
       "      <td>0</td>\n",
       "      <td>0</td>\n",
       "      <td>...</td>\n",
       "      <td>0</td>\n",
       "      <td>0</td>\n",
       "      <td>0</td>\n",
       "      <td>0</td>\n",
       "      <td>0</td>\n",
       "      <td>0</td>\n",
       "      <td>0</td>\n",
       "      <td>0</td>\n",
       "      <td>0</td>\n",
       "      <td>0</td>\n",
       "    </tr>\n",
       "    <tr>\n",
       "      <th>Scoring 1991 to 2002</th>\n",
       "      <td>10</td>\n",
       "      <td>6</td>\n",
       "      <td>4</td>\n",
       "      <td>3</td>\n",
       "      <td>2</td>\n",
       "      <td>1</td>\n",
       "      <td>0</td>\n",
       "      <td>0</td>\n",
       "      <td>0</td>\n",
       "      <td>0</td>\n",
       "      <td>...</td>\n",
       "      <td>0</td>\n",
       "      <td>0</td>\n",
       "      <td>0</td>\n",
       "      <td>0</td>\n",
       "      <td>0</td>\n",
       "      <td>0</td>\n",
       "      <td>0</td>\n",
       "      <td>0</td>\n",
       "      <td>0</td>\n",
       "      <td>0</td>\n",
       "    </tr>\n",
       "    <tr>\n",
       "      <th>Scoring 2003 to 2009</th>\n",
       "      <td>10</td>\n",
       "      <td>8</td>\n",
       "      <td>6</td>\n",
       "      <td>5</td>\n",
       "      <td>4</td>\n",
       "      <td>3</td>\n",
       "      <td>2</td>\n",
       "      <td>1</td>\n",
       "      <td>0</td>\n",
       "      <td>0</td>\n",
       "      <td>...</td>\n",
       "      <td>0</td>\n",
       "      <td>0</td>\n",
       "      <td>0</td>\n",
       "      <td>0</td>\n",
       "      <td>0</td>\n",
       "      <td>0</td>\n",
       "      <td>0</td>\n",
       "      <td>0</td>\n",
       "      <td>0</td>\n",
       "      <td>0</td>\n",
       "    </tr>\n",
       "    <tr>\n",
       "      <th>Scoring 2010 to 2013</th>\n",
       "      <td>25</td>\n",
       "      <td>18</td>\n",
       "      <td>15</td>\n",
       "      <td>12</td>\n",
       "      <td>10</td>\n",
       "      <td>8</td>\n",
       "      <td>6</td>\n",
       "      <td>4</td>\n",
       "      <td>2</td>\n",
       "      <td>1</td>\n",
       "      <td>...</td>\n",
       "      <td>0</td>\n",
       "      <td>0</td>\n",
       "      <td>0</td>\n",
       "      <td>0</td>\n",
       "      <td>0</td>\n",
       "      <td>0</td>\n",
       "      <td>0</td>\n",
       "      <td>0</td>\n",
       "      <td>0</td>\n",
       "      <td>0</td>\n",
       "    </tr>\n",
       "    <tr>\n",
       "      <th>Scoring 2014</th>\n",
       "      <td>25</td>\n",
       "      <td>18</td>\n",
       "      <td>15</td>\n",
       "      <td>12</td>\n",
       "      <td>10</td>\n",
       "      <td>8</td>\n",
       "      <td>6</td>\n",
       "      <td>4</td>\n",
       "      <td>2</td>\n",
       "      <td>1</td>\n",
       "      <td>...</td>\n",
       "      <td>0</td>\n",
       "      <td>0</td>\n",
       "      <td>0</td>\n",
       "      <td>0</td>\n",
       "      <td>0</td>\n",
       "      <td>0</td>\n",
       "      <td>0</td>\n",
       "      <td>0</td>\n",
       "      <td>0</td>\n",
       "      <td>0</td>\n",
       "    </tr>\n",
       "    <tr>\n",
       "      <th>Scoring 2015 to 2018</th>\n",
       "      <td>25</td>\n",
       "      <td>18</td>\n",
       "      <td>15</td>\n",
       "      <td>12</td>\n",
       "      <td>10</td>\n",
       "      <td>8</td>\n",
       "      <td>6</td>\n",
       "      <td>4</td>\n",
       "      <td>2</td>\n",
       "      <td>1</td>\n",
       "      <td>...</td>\n",
       "      <td>0</td>\n",
       "      <td>0</td>\n",
       "      <td>0</td>\n",
       "      <td>0</td>\n",
       "      <td>0</td>\n",
       "      <td>0</td>\n",
       "      <td>0</td>\n",
       "      <td>0</td>\n",
       "      <td>0</td>\n",
       "      <td>0</td>\n",
       "    </tr>\n",
       "    <tr>\n",
       "      <th>Scoring 2019</th>\n",
       "      <td>25</td>\n",
       "      <td>18</td>\n",
       "      <td>15</td>\n",
       "      <td>12</td>\n",
       "      <td>10</td>\n",
       "      <td>8</td>\n",
       "      <td>6</td>\n",
       "      <td>4</td>\n",
       "      <td>2</td>\n",
       "      <td>1</td>\n",
       "      <td>...</td>\n",
       "      <td>0</td>\n",
       "      <td>0</td>\n",
       "      <td>0</td>\n",
       "      <td>0</td>\n",
       "      <td>0</td>\n",
       "      <td>0</td>\n",
       "      <td>0</td>\n",
       "      <td>0</td>\n",
       "      <td>0</td>\n",
       "      <td>0</td>\n",
       "    </tr>\n",
       "  </tbody>\n",
       "</table>\n",
       "<p>9 rows × 33 columns</p>\n",
       "</div>"
      ],
      "text/plain": [
       "                      1   2   3   4   5   6   7   8   9   10  ...  24  25  26  \\\n",
       "Scoring 1950 to 1959   8   6   4   3   2   0   0   0   0   0  ...   0   0   0   \n",
       "Scoring 1960           8   6   4   3   2   1   0   0   0   0  ...   0   0   0   \n",
       "Scoring 1961 to 1990   9   6   4   3   2   1   0   0   0   0  ...   0   0   0   \n",
       "Scoring 1991 to 2002  10   6   4   3   2   1   0   0   0   0  ...   0   0   0   \n",
       "Scoring 2003 to 2009  10   8   6   5   4   3   2   1   0   0  ...   0   0   0   \n",
       "Scoring 2010 to 2013  25  18  15  12  10   8   6   4   2   1  ...   0   0   0   \n",
       "Scoring 2014          25  18  15  12  10   8   6   4   2   1  ...   0   0   0   \n",
       "Scoring 2015 to 2018  25  18  15  12  10   8   6   4   2   1  ...   0   0   0   \n",
       "Scoring 2019          25  18  15  12  10   8   6   4   2   1  ...   0   0   0   \n",
       "\n",
       "                      27  28  29  30  31  32  33  \n",
       "Scoring 1950 to 1959   0   0   0   0   0   0   0  \n",
       "Scoring 1960           0   0   0   0   0   0   0  \n",
       "Scoring 1961 to 1990   0   0   0   0   0   0   0  \n",
       "Scoring 1991 to 2002   0   0   0   0   0   0   0  \n",
       "Scoring 2003 to 2009   0   0   0   0   0   0   0  \n",
       "Scoring 2010 to 2013   0   0   0   0   0   0   0  \n",
       "Scoring 2014           0   0   0   0   0   0   0  \n",
       "Scoring 2015 to 2018   0   0   0   0   0   0   0  \n",
       "Scoring 2019           0   0   0   0   0   0   0  \n",
       "\n",
       "[9 rows x 33 columns]"
      ]
     },
     "execution_count": 33,
     "metadata": {},
     "output_type": "execute_result"
    }
   ],
   "source": [
    "dfscoring.loc[\"Scoring 1950 to 1959\"][1, 2, 3, 4, 5] = [8, 6, 4, 3, 2]\n",
    "dfscoring.loc[\"Scoring 1960\"][1, 2, 3, 4, 5, 6] = [8, 6, 4, 3, 2, 1]\n",
    "dfscoring.loc[\"Scoring 1961 to 1990\"][1, 2, 3, 4, 5, 6] = [9, 6, 4, 3, 2, 1]\n",
    "dfscoring.loc[\"Scoring 1991 to 2002\"][1, 2, 3, 4, 5, 6] = [10, 6, 4, 3, 2, 1]\n",
    "dfscoring.loc[\"Scoring 2003 to 2009\"][1, 2, 3, 4, 5, 6, 7, 8] = [\n",
    "    10,\n",
    "    8,\n",
    "    6,\n",
    "    5,\n",
    "    4,\n",
    "    3,\n",
    "    2,\n",
    "    1,\n",
    "]\n",
    "dfscoring.loc[\"Scoring 2010 to 2013\"][1, 2, 3, 4, 5, 6, 7, 8, 9, 10] = [\n",
    "    25,\n",
    "    18,\n",
    "    15,\n",
    "    12,\n",
    "    10,\n",
    "    8,\n",
    "    6,\n",
    "    4,\n",
    "    2,\n",
    "    1,\n",
    "]\n",
    "dfscoring.loc[\"Scoring 2014\"][1, 2, 3, 4, 5, 6, 7, 8, 9, 10] = [\n",
    "    25,\n",
    "    18,\n",
    "    15,\n",
    "    12,\n",
    "    10,\n",
    "    8,\n",
    "    6,\n",
    "    4,\n",
    "    2,\n",
    "    1,\n",
    "]\n",
    "dfscoring.loc[\"Scoring 2015 to 2018\"] = dfscoring.loc[\"Scoring 2010 to 2013\"]\n",
    "dfscoring.loc[\"Scoring 2019\"] = dfscoring.loc[\"Scoring 2010 to 2013\"]\n",
    "\n",
    "dfscoring"
   ]
  },
  {
   "cell_type": "markdown",
   "metadata": {},
   "source": [
    "### Simulations\n",
    "\n",
    "Using the dataframe created before, we'll setup one simulation per scoring system:"
   ]
  },
  {
   "cell_type": "code",
   "execution_count": 34,
   "metadata": {},
   "outputs": [],
   "source": [
    "# Creation of simulation\n",
    "pointssystem_sim = f1cube.setup_simulation(\n",
    "    \"pointssystem_sim\",\n",
    "    levels=[lvl[\"positionText\"], lvl[\"resultId\"]],\n",
    "    replace=[m[\"points.SUM\"]],\n",
    "    base_scenario=\"Base\",\n",
    ")"
   ]
  },
  {
   "cell_type": "code",
   "execution_count": 35,
   "metadata": {},
   "outputs": [],
   "source": [
    "# Creation of the different scenarios\n",
    "scoring_scenario = {}\n",
    "for scoring_name in scoring_systems:\n",
    "    scoring_scenario[scoring_name] = pointssystem_sim.scenarios[scoring_name]"
   ]
  },
  {
   "cell_type": "code",
   "execution_count": 36,
   "metadata": {},
   "outputs": [],
   "source": [
    "# Feed of the different scenarios with points from related scoring systems\n",
    "for scoring_name in scoring_systems:\n",
    "    for i in scoring_positions:\n",
    "        x = float(dfscoring.loc[scoring_name][i])\n",
    "        scoring_scenario[scoring_name] += (str(i), None, x)"
   ]
  },
  {
   "cell_type": "code",
   "execution_count": 37,
   "metadata": {},
   "outputs": [
    {
     "data": {
      "text/html": [
       "<div>\n",
       "<style scoped>\n",
       "    .dataframe tbody tr th:only-of-type {\n",
       "        vertical-align: middle;\n",
       "    }\n",
       "\n",
       "    .dataframe tbody tr th {\n",
       "        vertical-align: top;\n",
       "    }\n",
       "\n",
       "    .dataframe thead th {\n",
       "        text-align: right;\n",
       "    }\n",
       "</style>\n",
       "<table border=\"1\" class=\"dataframe\">\n",
       "  <thead>\n",
       "    <tr style=\"text-align: right;\">\n",
       "      <th></th>\n",
       "      <th></th>\n",
       "      <th>pointssystem_sim_points.SUM_replace</th>\n",
       "      <th>Priority</th>\n",
       "    </tr>\n",
       "    <tr>\n",
       "      <th>positionText</th>\n",
       "      <th>resultId</th>\n",
       "      <th></th>\n",
       "      <th></th>\n",
       "    </tr>\n",
       "  </thead>\n",
       "  <tbody>\n",
       "    <tr>\n",
       "      <th>1.0</th>\n",
       "      <th>NaN</th>\n",
       "      <td>25.0</td>\n",
       "      <td>0.0</td>\n",
       "    </tr>\n",
       "    <tr>\n",
       "      <th>2.0</th>\n",
       "      <th>NaN</th>\n",
       "      <td>18.0</td>\n",
       "      <td>0.0</td>\n",
       "    </tr>\n",
       "    <tr>\n",
       "      <th>3.0</th>\n",
       "      <th>NaN</th>\n",
       "      <td>15.0</td>\n",
       "      <td>0.0</td>\n",
       "    </tr>\n",
       "    <tr>\n",
       "      <th>4.0</th>\n",
       "      <th>NaN</th>\n",
       "      <td>12.0</td>\n",
       "      <td>0.0</td>\n",
       "    </tr>\n",
       "    <tr>\n",
       "      <th>5.0</th>\n",
       "      <th>NaN</th>\n",
       "      <td>10.0</td>\n",
       "      <td>0.0</td>\n",
       "    </tr>\n",
       "    <tr>\n",
       "      <th>6.0</th>\n",
       "      <th>NaN</th>\n",
       "      <td>8.0</td>\n",
       "      <td>0.0</td>\n",
       "    </tr>\n",
       "    <tr>\n",
       "      <th>7.0</th>\n",
       "      <th>NaN</th>\n",
       "      <td>6.0</td>\n",
       "      <td>0.0</td>\n",
       "    </tr>\n",
       "    <tr>\n",
       "      <th>8.0</th>\n",
       "      <th>NaN</th>\n",
       "      <td>4.0</td>\n",
       "      <td>0.0</td>\n",
       "    </tr>\n",
       "    <tr>\n",
       "      <th>9.0</th>\n",
       "      <th>NaN</th>\n",
       "      <td>2.0</td>\n",
       "      <td>0.0</td>\n",
       "    </tr>\n",
       "    <tr>\n",
       "      <th>10.0</th>\n",
       "      <th>NaN</th>\n",
       "      <td>1.0</td>\n",
       "      <td>0.0</td>\n",
       "    </tr>\n",
       "  </tbody>\n",
       "</table>\n",
       "</div>"
      ],
      "text/plain": [
       "                       pointssystem_sim_points.SUM_replace  Priority\n",
       "positionText resultId                                               \n",
       "1.0          NaN                                      25.0       0.0\n",
       "2.0          NaN                                      18.0       0.0\n",
       "3.0          NaN                                      15.0       0.0\n",
       "4.0          NaN                                      12.0       0.0\n",
       "5.0          NaN                                      10.0       0.0\n",
       "6.0          NaN                                       8.0       0.0\n",
       "7.0          NaN                                       6.0       0.0\n",
       "8.0          NaN                                       4.0       0.0\n",
       "9.0          NaN                                       2.0       0.0\n",
       "10.0         NaN                                       1.0       0.0"
      ]
     },
     "execution_count": 37,
     "metadata": {},
     "output_type": "execute_result"
    }
   ],
   "source": [
    "# Example of scoring scenario\n",
    "scoring_scenario[\"Scoring 2019\"].head(10)"
   ]
  },
  {
   "cell_type": "code",
   "execution_count": 39,
   "metadata": {
    "atoti": {
     "state": {
      "name": "Top driver by year across scenarios",
      "type": "container",
      "value": {
       "body": {
        "configuration": {
         "tabular": {
          "addButtonFilter": "numeric",
          "columns": [
           {
            "key": "[Measures].[Top constructor]",
            "width": 163
           },
           {
            "key": "[Measures].[Top driver]",
            "width": 141
           }
          ],
          "columnsGroups": [
           {
            "captionProducer": "firstColumn",
            "cellFactory": "kpi-status",
            "selector": "kpi-status"
           },
           {
            "captionProducer": "firstColumn",
            "cellFactory": "lookup",
            "selector": "lookup"
           },
           {
            "captionProducer": "expiry",
            "cellFactory": "expiry",
            "selector": "kpi-expiry"
           },
           {
            "captionProducer": "columnMerge",
            "cellFactory": {
             "args": {},
             "key": "treeCells"
            },
            "selector": "member"
           }
          ],
          "defaultOptions": {},
          "expansion": {
           "automaticExpansion": true
          },
          "hideAddButton": true,
          "pinnedHeaderSelector": "member",
          "sortingMode": "non-breaking",
          "statisticsShown": true
         }
        },
        "contextValues": {},
        "mdx": "SELECT NON EMPTY [Measure Simulations].[pointssystem_sim].[pointssystem_sim].Members ON ROWS, NON EMPTY {[Measures].[Top driver], [Measures].[Top constructor]} ON COLUMNS FROM [F1Cube] CELL PROPERTIES VALUE, FORMATTED_VALUE, BACK_COLOR, FORE_COLOR, FONT_FLAGS",
        "ranges": {
         "column": {
          "chunkSize": 50,
          "thresholdPercentage": 0.2
         },
         "row": {
          "chunkSize": 2000,
          "thresholdPercentage": 0.1
         }
        },
        "serverUrl": "",
        "updateMode": "once"
       },
       "containerKey": "pivot-table",
       "showTitleBar": false,
       "style": {}
      }
     }
    }
   },
   "outputs": [
    {
     "data": {
      "application/vnd.atoti.v0+json": {
       "cube": "F1Cube",
       "name": "Top driver by year across scenarios",
       "session": "Unnamed"
      },
      "text/plain": [
       "Install and enable the atoti JupyterLab extension to see this widget."
      ]
     },
     "metadata": {},
     "output_type": "display_data"
    }
   ],
   "source": [
    "f1cube.visualize(\"Top driver by year across scenarios\")"
   ]
  },
  {
   "cell_type": "code",
   "execution_count": 41,
   "metadata": {
    "atoti": {
     "height": 677,
     "state": {
      "name": "Champion comparison",
      "type": "container",
      "value": {
       "body": {
        "configuration": {
         "tabular": {
          "addButtonFilter": "numeric",
          "columnOrder": {
           "args": {
            "orderedColumns": [
             "__lineNumber__",
             "c-treeCells-member",
             "([Measure Simulations].[pointssystem_sim].[pointssystem_sim].[Base],[Measures].[Champion])",
             "([Measure Simulations].[pointssystem_sim].[pointssystem_sim].[System 1991 to 2002],[Measures].[Champion])",
             "([Measure Simulations].[pointssystem_sim].[pointssystem_sim].[System 2003 to 2009],[Measures].[Champion])",
             "([Measure Simulations].[pointssystem_sim].[pointssystem_sim].[System 2015 to 2018],[Measures].[Champion])"
            ]
           },
           "key": "explicit"
          },
          "columns": [
           {
            "key": "c-treeCells-member",
            "width": 97
           },
           {
            "key": "([Measure Simulations].[pointssystem_sim].[pointssystem_sim].[System 1991 to 2002],[Measures].[Champion])",
            "width": 179
           },
           {
            "key": "([Measure Simulations].[pointssystem_sim].[pointssystem_sim].[System 2003 to 2009],[Measures].[Champion])",
            "width": 159
           },
           {
            "key": "([Measure Simulations].[pointssystem_sim].[pointssystem_sim].[System 2015 to 2018],[Measures].[Champion])",
            "width": 171
           },
           {
            "key": "([Measure Simulations].[pointssystem_sim].[pointssystem_sim].[System 1991 to 2002],[Measures].[Champion (1)])",
            "width": 156
           },
           {
            "key": "([Measure Simulations].[pointssystem_sim].[pointssystem_sim].[System 2003 to 2009],[Measures].[Champion (1)])",
            "width": 164
           },
           {
            "key": "([Measure Simulations].[pointssystem_sim].[pointssystem_sim].[System 2015 to 2018],[Measures].[Champion (1)])",
            "width": 150
           },
           {
            "key": "[Measure Simulations].[pointssystem_sim].[pointssystem_sim].[System 2003 to 2009]",
            "width": 168
           },
           {
            "key": "[Measure Simulations].[pointssystem_sim].[pointssystem_sim].[System 2015 to 2018]",
            "width": 165
           },
           {
            "key": "[Measure Simulations].[pointssystem_sim].[pointssystem_sim].[System 1991 to 2002]",
            "width": 172
           }
          ],
          "columnsGroups": [
           {
            "captionProducer": "firstColumn",
            "cellFactory": "kpi-status",
            "selector": "kpi-status"
           },
           {
            "captionProducer": "firstColumn",
            "cellFactory": "lookup",
            "selector": "lookup"
           },
           {
            "captionProducer": "expiry",
            "cellFactory": "expiry",
            "selector": "kpi-expiry"
           },
           {
            "captionProducer": "columnMerge",
            "cellFactory": {
             "args": {
              "automaticExpansion": true
             },
             "key": "treeCells"
            },
            "selector": "member"
           }
          ],
          "defaultOptions": {},
          "hideAddButton": true,
          "lineNumbers": true,
          "pinnedHeaderSelector": "member",
          "sortingMode": "non-breaking",
          "statisticsShown": true
         }
        },
        "contextValues": {},
        "mdx": "WITH  Member [Measures].[Top driver (1)] AS [Measures].[Top driver], FORE_COLOR = iif([Measures].[Top driver] <> ([Measures].[Top driver], [Measure Simulations].[pointssystem_sim].[pointssystem_sim].[Base]), \"red\", NULL)  SELECT NON EMPTY Crossjoin([Measures].[Top driver (1)], [Measure Simulations].[pointssystem_sim].[pointssystem_sim].Members) ON COLUMNS, NON EMPTY Hierarchize(DrilldownLevel([Hierarchies].[year].[ALL].[AllMember])) ON ROWS FROM [F1Cube] CELL PROPERTIES VALUE, FORMATTED_VALUE, BACK_COLOR, FORE_COLOR, FONT_FLAGS",
        "ranges": {
         "column": {
          "chunkSize": 50,
          "thresholdPercentage": 0.2
         },
         "row": {
          "chunkSize": 2000,
          "thresholdPercentage": 0.1
         }
        },
        "serverUrl": "",
        "updateMode": "once"
       },
       "containerKey": "pivot-table",
       "showTitleBar": false,
       "style": {}
      }
     }
    }
   },
   "outputs": [
    {
     "data": {
      "application/vnd.atoti.v0+json": {
       "cube": "F1Cube",
       "name": "Champion comparison",
       "session": "Unnamed"
      },
      "text/plain": [
       "Install and enable the atoti JupyterLab extension to see this widget."
      ]
     },
     "metadata": {},
     "output_type": "display_data"
    }
   ],
   "source": [
    "# Apply conditional formatting via MDX\n",
    "#  Member [Measures].[Top driver (1)] AS [Measures].[Top driver], FORE_COLOR = iif(\n",
    "#   [Measures].[Top driver] <> (\n",
    "#     [Measures].[Top driver],\n",
    "#     [Measure Simulations].[pointssystem_sim].[pointssystem_sim].[Base]\n",
    "#   ),\n",
    "#   \"red\",\n",
    "#   NULL\n",
    "# )\n",
    "f1cube.visualize(\"Champion comparison\")"
   ]
  },
  {
   "cell_type": "markdown",
   "metadata": {},
   "source": [
    "## TODO"
   ]
  },
  {
   "cell_type": "code",
   "execution_count": null,
   "metadata": {
    "atoti": {
     "state": {
      "name": "Total points per constructors",
      "type": "container",
      "value": {
       "body": {
        "configuration": {
         "tabular": {
          "addButtonFilter": "numeric",
          "columnsGroups": [
           {
            "captionProducer": "firstColumn",
            "cellFactory": "kpi-status",
            "selector": "kpi-status"
           },
           {
            "captionProducer": "firstColumn",
            "cellFactory": "lookup",
            "selector": "lookup"
           },
           {
            "captionProducer": "expiry",
            "cellFactory": "expiry",
            "selector": "kpi-expiry"
           },
           {
            "captionProducer": "columnMerge",
            "cellFactory": {
             "args": {},
             "key": "treeCells"
            },
            "selector": "member"
           }
          ],
          "defaultOptions": {},
          "expansion": {
           "automaticExpansion": true
          },
          "hideAddButton": true,
          "pinnedHeaderSelector": "member",
          "sortingMode": "non-breaking",
          "statisticsShown": true
         }
        },
        "contextValues": {},
        "mdx": "SELECT NON EMPTY Order(DrilldownLevel([Hierarchies].[constructor_name].[ALL].[AllMember]), [Measures].[points.SUM], DESC) ON ROWS, NON EMPTY [Measures].[points.SUM] ON COLUMNS FROM [F1Cube] CELL PROPERTIES VALUE, FORMATTED_VALUE, BACK_COLOR, FORE_COLOR, FONT_FLAGS",
        "ranges": {
         "column": {
          "chunkSize": 50,
          "thresholdPercentage": 0.2
         },
         "row": {
          "chunkSize": 2000,
          "thresholdPercentage": 0.1
         }
        },
        "serverUrl": "",
        "updateMode": "once"
       },
       "containerKey": "pivot-table",
       "showTitleBar": false,
       "style": {}
      }
     }
    }
   },
   "outputs": [],
   "source": [
    "f1cube.visualize(\"Total points per constructors\")"
   ]
  },
  {
   "cell_type": "code",
   "execution_count": null,
   "metadata": {
    "atoti": {
     "state": {
      "name": "Top driver by race",
      "type": "container",
      "value": {
       "body": {
        "configuration": {
         "tabular": {
          "addButtonFilter": "numeric",
          "columnsGroups": [
           {
            "captionProducer": "firstColumn",
            "cellFactory": "kpi-status",
            "selector": "kpi-status"
           },
           {
            "captionProducer": "firstColumn",
            "cellFactory": "lookup",
            "selector": "lookup"
           },
           {
            "captionProducer": "expiry",
            "cellFactory": "expiry",
            "selector": "kpi-expiry"
           },
           {
            "captionProducer": "columnMerge",
            "cellFactory": {
             "args": {},
             "key": "treeCells"
            },
            "selector": "member"
           }
          ],
          "defaultOptions": {},
          "expansion": {
           "automaticExpansion": true
          },
          "hideAddButton": true,
          "pinnedHeaderSelector": "member",
          "sortingMode": "non-breaking",
          "statisticsShown": true
         }
        },
        "contextValues": {},
        "mdx": "SELECT NON EMPTY {[Measures].[Top driver]} ON COLUMNS, NON EMPTY Hierarchize(DrilldownLevel([Hierarchies].[race_name].[ALL].[AllMember])) ON ROWS FROM [F1Cube] CELL PROPERTIES VALUE, FORMATTED_VALUE, BACK_COLOR, FORE_COLOR, FONT_FLAGS",
        "ranges": {
         "column": {
          "chunkSize": 50,
          "thresholdPercentage": 0.2
         },
         "row": {
          "chunkSize": 2000,
          "thresholdPercentage": 0.1
         }
        },
        "serverUrl": "",
        "updateMode": "once"
       },
       "containerKey": "pivot-table",
       "showTitleBar": false,
       "style": {}
      }
     }
    }
   },
   "outputs": [],
   "source": [
    "f1cube.visualize(\"Top driver by race\")"
   ]
  },
  {
   "cell_type": "code",
   "execution_count": null,
   "metadata": {
    "atoti": {
     "state": {
      "name": "Top constructor by race",
      "type": "container",
      "value": {
       "body": {
        "configuration": {
         "tabular": {
          "addButtonFilter": "numeric",
          "columnsGroups": [
           {
            "captionProducer": "firstColumn",
            "cellFactory": "kpi-status",
            "selector": "kpi-status"
           },
           {
            "captionProducer": "firstColumn",
            "cellFactory": "lookup",
            "selector": "lookup"
           },
           {
            "captionProducer": "expiry",
            "cellFactory": "expiry",
            "selector": "kpi-expiry"
           },
           {
            "captionProducer": "columnMerge",
            "cellFactory": {
             "args": {},
             "key": "treeCells"
            },
            "selector": "member"
           }
          ],
          "defaultOptions": {},
          "expansion": {
           "automaticExpansion": true
          },
          "hideAddButton": true,
          "pinnedHeaderSelector": "member",
          "sortingMode": "non-breaking",
          "statisticsShown": true
         }
        },
        "contextValues": {},
        "mdx": "SELECT NON EMPTY Hierarchize(DrilldownLevel([Hierarchies].[race_name].[ALL].[AllMember])) ON ROWS, NON EMPTY {[Measures].[Top constructor]} ON COLUMNS FROM [F1Cube] CELL PROPERTIES VALUE, FORMATTED_VALUE, BACK_COLOR, FORE_COLOR, FONT_FLAGS",
        "ranges": {
         "column": {
          "chunkSize": 50,
          "thresholdPercentage": 0.2
         },
         "row": {
          "chunkSize": 2000,
          "thresholdPercentage": 0.1
         }
        },
        "serverUrl": "",
        "updateMode": "once"
       },
       "containerKey": "pivot-table",
       "showTitleBar": false,
       "style": {}
      }
     }
    }
   },
   "outputs": [],
   "source": [
    "f1cube.visualize(\"Top constructor by race\")"
   ]
  },
  {
   "cell_type": "markdown",
   "metadata": {},
   "source": [
    "### Showing the differences for the race result of a famous GP, Brazil 2008\n",
    "Where we see how the 1991-2002 scoring systems makes a big difference between chamionship rivals Massa & Hamilton\n",
    "See race summary here: https://www.youtube.com/watch?v=XHSeGou-pCI ;)"
   ]
  },
  {
   "cell_type": "code",
   "execution_count": null,
   "metadata": {
    "activeviam": {
     "state": {
      "name": "Base vs. Simulation - Brazil 2008",
      "type": "container",
      "value": {
       "body": {
        "configuration": {
         "tabular": {
          "addButtonFilter": "numeric",
          "columnOrder": {
           "args": {
            "orderedColumns": [
             "__lineNumber__",
             "c-treeCells-member",
             "([Measure Simulations].[pointssystem_sim].[pointssystem_sim].[Base],[Measures].[Total Points])",
             "([Measure Simulations].[pointssystem_sim].[pointssystem_sim].[System 2015 to 2018],[Measures].[Total Points])"
            ]
           },
           "key": "explicit"
          },
          "columns": [
           {
            "key": "([Measure Simulations].[pointssystem_sim].[pointssystem_sim].[System 2015 to 2018],[Measures].[Total Points])",
            "width": 159
           },
           {
            "key": "c-treeCells-member",
            "width": 319
           },
           {
            "key": "([Measure Simulations].[pointssystem_sim].[pointssystem_sim].[System 2003 to 2009],[Measures].[Total Points])",
            "width": 180
           },
           {
            "key": "([Measure Simulations].[pointssystem_sim].[pointssystem_sim].[System 1991 to 2002],[Measures].[Total Points])",
            "width": 157
           }
          ],
          "columnsGroups": [
           {
            "captionProducer": "firstColumn",
            "cellFactory": "kpi-status",
            "selector": "kpi-status"
           },
           {
            "captionProducer": "firstColumn",
            "cellFactory": "lookup",
            "selector": "lookup"
           },
           {
            "captionProducer": "expiry",
            "cellFactory": "expiry",
            "selector": "kpi-expiry"
           },
           {
            "captionProducer": "columnMerge",
            "cellFactory": {
             "args": {
              "automaticExpansion": true
             },
             "key": "treeCells"
            },
            "selector": "member"
           }
          ],
          "defaultOptions": {},
          "hideAddButton": true,
          "lineNumbers": true,
          "pinnedHeaderSelector": "member",
          "sortingMode": "non-breaking",
          "statisticsShown": true
         }
        },
        "contextValues": {
         "F1Cube": {
          "mdx.hiddengrandtotals": "1"
         }
        },
        "mdx": "SELECT NON EMPTY Crossjoin(Hierarchize([Measure Simulations].[pointssystem_sim].[pointssystem_sim].Members), [Measures].[Total Points]) ON COLUMNS, NON EMPTY Order(DrilldownLevel([Hierarchies].[driverRef].[ALL].[AllMember]), ([Measure Simulations].[pointssystem_sim].[pointssystem_sim].[System 2015 to 2018], [Measures].[Total Points]), DESC) ON ROWS FROM [F1Cube] WHERE ([Hierarchies].[name].[ALL].[AllMember].[Brazilian Grand Prix], [Hierarchies].[year].[ALL].[AllMember].[2008]) CELL PROPERTIES VALUE, FORMATTED_VALUE, BACK_COLOR, FORE_COLOR, FONT_FLAGS",
        "ranges": {
         "column": {
          "chunkSize": 50,
          "thresholdPercentage": 0.2
         },
         "row": {
          "chunkSize": 2000,
          "thresholdPercentage": 0.1
         }
        },
        "serverUrl": "",
        "updateMode": "once"
       },
       "containerKey": "pivot-table",
       "showTitleBar": false,
       "style": {}
      }
     }
    },
    "atoti": {
     "state": {
      "name": "Base vs. Simulation - Brazil 2008",
      "type": "container",
      "value": {
       "body": {
        "configuration": {
         "tabular": {
          "addButtonFilter": "numeric",
          "columns": [
           {
            "key": "c-treeCells-member",
            "width": 149
           },
           {
            "key": "([Measure Simulations].[pointssystem_sim].[pointssystem_sim].[System 1991 to 2002],[Measures].[points.SUM])",
            "width": 148
           },
           {
            "key": "([Measure Simulations].[pointssystem_sim].[pointssystem_sim].[System 2003 to 2009],[Measures].[points.SUM])",
            "width": 134
           },
           {
            "key": "([Measure Simulations].[pointssystem_sim].[pointssystem_sim].[System 2015 to 2018],[Measures].[points.SUM])",
            "width": 138
           }
          ],
          "columnsGroups": [
           {
            "captionProducer": "firstColumn",
            "cellFactory": "kpi-status",
            "selector": "kpi-status"
           },
           {
            "captionProducer": "firstColumn",
            "cellFactory": "lookup",
            "selector": "lookup"
           },
           {
            "captionProducer": "expiry",
            "cellFactory": "expiry",
            "selector": "kpi-expiry"
           },
           {
            "captionProducer": "columnMerge",
            "cellFactory": {
             "args": {
              "automaticExpansion": true
             },
             "key": "treeCells"
            },
            "selector": "member"
           }
          ],
          "defaultOptions": {},
          "hideAddButton": true,
          "lineNumbers": true,
          "pinnedHeaderSelector": "member",
          "sortingMode": "non-breaking",
          "statisticsShown": true
         }
        },
        "contextValues": {
         "F1Cube": {
          "mdx.hiddengrandtotals": "1"
         }
        },
        "mdx": "SELECT NON EMPTY Crossjoin([Measure Simulations].[pointssystem_sim].[pointssystem_sim].Members, [Measures].[points.SUM]) ON COLUMNS, NON EMPTY Order(DrilldownLevel([Hierarchies].[driverRef].[ALL].[AllMember]), [Measures].[points.SUM], DESC) ON ROWS FROM [F1Cube] WHERE ([Hierarchies].[year].[ALL].[AllMember].[2008], [Hierarchies].[race_name].[ALL].[AllMember].[Brazilian Grand Prix]) CELL PROPERTIES VALUE, FORMATTED_VALUE, BACK_COLOR, FORE_COLOR, FONT_FLAGS",
        "ranges": {
         "column": {
          "chunkSize": 50,
          "thresholdPercentage": 0.2
         },
         "row": {
          "chunkSize": 2000,
          "thresholdPercentage": 0.1
         }
        },
        "serverUrl": "",
        "updateMode": "once"
       },
       "containerKey": "pivot-table",
       "showTitleBar": false,
       "style": {}
      }
     }
    }
   },
   "outputs": [],
   "source": [
    "f1cube.visualize(\"Base vs. Simulation - Brazil 2008\")"
   ]
  },
  {
   "cell_type": "markdown",
   "metadata": {},
   "source": [
    "### Showing the differences for the 2008 world championship result\n",
    "Would Felipe Massa have become world champ in 2008 with the 1991-2002 scoring system?? YES!"
   ]
  },
  {
   "cell_type": "code",
   "execution_count": null,
   "metadata": {
    "activeviam": {
     "height": 530,
     "state": {
      "name": "Base vs. Simulation System 1991 to 2002 - 2008 Championship",
      "type": "container",
      "value": {
       "body": {
        "configuration": {
         "mapping": {
          "horizontal": [],
          "splitBy": [
           "[Measure Simulations].[pointssystem_sim].[pointssystem_sim]"
          ],
          "values": [
           "[Measures].[Total Points]"
          ],
          "vertical": [],
          "xAxis": [
           "[Hierarchies].[driverRef].[driverRef]"
          ]
         },
         "plotly": {
          "layout": {
           "xaxis": {
            "title": {
             "text": "Total points"
            }
           },
           "yaxis": {
            "categoryorder": "total ascending",
            "title": {
             "text": "Drivers"
            }
           }
          }
         },
         "switchedTo": "plotly-clustered-bar-chart",
         "type": "plotly-clustered-column-chart"
        },
        "query": {
         "mdx": "SELECT NON EMPTY [Measures].[Total Points] ON COLUMNS, NON EMPTY Crossjoin([Hierarchies].[driverRef].[driverRef].Members, [Measure Simulations].[pointssystem_sim].[pointssystem_sim].Members) ON ROWS FROM (SELECT TopCount(Filter([Hierarchies].[driverRef].Levels(1).Members, NOT IsEmpty([Measures].[Total Points])), 10, [Measures].[Total Points]) ON COLUMNS FROM (SELECT {[Measure Simulations].[pointssystem_sim].[pointssystem_sim].[Base], [Measure Simulations].[pointssystem_sim].[pointssystem_sim].[System 1991 to 2002]} ON COLUMNS FROM [F1Cube] WHERE [Hierarchies].[year].[ALL].[AllMember].[2008]) WHERE [Hierarchies].[year].[ALL].[AllMember].[2008]) WHERE [Hierarchies].[year].[ALL].[AllMember].[2008] CELL PROPERTIES VALUE, FORMATTED_VALUE, BACK_COLOR, FORE_COLOR, FONT_FLAGS",
         "serverUrl": "",
         "updateMode": "once"
        }
       },
       "containerKey": "chart",
       "showTitleBar": true,
       "style": {}
      }
     }
    },
    "atoti": {
     "state": {
      "name": "Base vs. Simulation System 1991 to 2002 - 2008 Championship",
      "type": "container",
      "value": {
       "body": {
        "configuration": {
         "tabular": {
          "addButtonFilter": "numeric",
          "columnOrder": {
           "args": {
            "orderedColumns": [
             "__lineNumber__",
             "c-treeCells-member",
             "([Measure Simulations].[pointssystem_sim].[pointssystem_sim].[Base],[Measures].[Champion])",
             "([Measure Simulations].[pointssystem_sim].[pointssystem_sim].[System 1991 to 2002],[Measures].[Champion])",
             "([Measure Simulations].[pointssystem_sim].[pointssystem_sim].[System 2003 to 2009],[Measures].[Champion])",
             "([Measure Simulations].[pointssystem_sim].[pointssystem_sim].[System 2015 to 2018],[Measures].[Champion])"
            ]
           },
           "key": "explicit"
          },
          "columns": [
           {
            "key": "([Measure Simulations].[pointssystem_sim].[pointssystem_sim].[System 1991 to 2002],[Measures].[Champion])",
            "width": 170
           }
          ],
          "columnsGroups": [
           {
            "captionProducer": "firstColumn",
            "cellFactory": "kpi-status",
            "selector": "kpi-status"
           },
           {
            "captionProducer": "firstColumn",
            "cellFactory": "lookup",
            "selector": "lookup"
           },
           {
            "captionProducer": "expiry",
            "cellFactory": "expiry",
            "selector": "kpi-expiry"
           },
           {
            "captionProducer": "columnMerge",
            "cellFactory": {
             "args": {
              "automaticExpansion": true
             },
             "key": "treeCells"
            },
            "selector": "member"
           }
          ],
          "defaultOptions": {},
          "hideAddButton": true,
          "lineNumbers": true,
          "pinnedHeaderSelector": "member",
          "sortingMode": "non-breaking",
          "statisticsShown": true
         }
        },
        "contextValues": {
         "F1Cube": {
          "mdx.hiddengrandtotals": "1"
         }
        },
        "mdx": "SELECT NON EMPTY Crossjoin([Measure Simulations].[pointssystem_sim].[pointssystem_sim].Members, [Measures].[Top driver]) ON COLUMNS, NON EMPTY Hierarchize(DrilldownLevel([Hierarchies].[year].[ALL].[AllMember])) ON ROWS FROM (SELECT {[Measure Simulations].[pointssystem_sim].[pointssystem_sim].[Base], [Measure Simulations].[pointssystem_sim].[pointssystem_sim].[Scoring 1991 to 2002]} ON COLUMNS FROM (SELECT [Hierarchies].[year].[ALL].[AllMember].[2008] ON COLUMNS FROM [F1Cube])) CELL PROPERTIES VALUE, FORMATTED_VALUE, BACK_COLOR, FORE_COLOR, FONT_FLAGS",
        "ranges": {
         "column": {
          "chunkSize": 50,
          "thresholdPercentage": 0.2
         },
         "row": {
          "chunkSize": 2000,
          "thresholdPercentage": 0.1
         }
        },
        "serverUrl": "",
        "updateMode": "once"
       },
       "containerKey": "pivot-table",
       "showTitleBar": false,
       "style": {}
      }
     }
    }
   },
   "outputs": [],
   "source": [
    "f1cube.visualize(\"Base vs. Simulation System 1991 to 2002 - 2008 Championship\")"
   ]
  },
  {
   "cell_type": "code",
   "execution_count": null,
   "metadata": {
    "activeviam": {
     "state": {
      "name": "Base vs. Simulation - 2008 Championship table",
      "type": "container",
      "value": {
       "body": {
        "configuration": {
         "tabular": {
          "addButtonFilter": "numeric",
          "columns": [
           {
            "key": "([Measure Simulations].[pointssystem_sim].[pointssystem_sim].[System 1991 to 2002],[Measures].[Total Points])",
            "width": 152
           },
           {
            "key": "([Measure Simulations].[pointssystem_sim].[pointssystem_sim].[System 2003 to 2009],[Measures].[Total Points])",
            "width": 165
           },
           {
            "key": "([Measure Simulations].[pointssystem_sim].[pointssystem_sim].[System 2015 to 2018],[Measures].[Total Points])",
            "width": 169
           }
          ],
          "columnsGroups": [
           {
            "captionProducer": "firstColumn",
            "cellFactory": "kpi-status",
            "selector": "kpi-status"
           },
           {
            "captionProducer": "firstColumn",
            "cellFactory": "lookup",
            "selector": "lookup"
           },
           {
            "captionProducer": "expiry",
            "cellFactory": "expiry",
            "selector": "kpi-expiry"
           },
           {
            "captionProducer": "columnMerge",
            "cellFactory": {
             "args": {
              "automaticExpansion": true
             },
             "key": "treeCells"
            },
            "selector": "member"
           }
          ],
          "defaultOptions": {},
          "hideAddButton": true,
          "lineNumbers": true,
          "pinnedHeaderSelector": "member",
          "sortingMode": "non-breaking",
          "statisticsShown": true
         }
        },
        "contextValues": {
         "F1Cube": {
          "mdx.hiddengrandtotals": "1"
         }
        },
        "mdx": "SELECT NON EMPTY Order(Order(Hierarchize(DrilldownLevel([Hierarchies].[driverRef].[ALL].[AllMember])), ([Hierarchies].[raceId].[ALL].[AllMember].[18], [Measure Simulations].[pointssystem_sim].[pointssystem_sim].[System 2015 to 2018], [Measures].[points.SUM]), DESC), ([Measure Simulations].[pointssystem_sim].[pointssystem_sim].[System 2015 to 2018], [Measures].[Total Points]), DESC) ON ROWS, NON EMPTY Crossjoin(Hierarchize([Measure Simulations].[pointssystem_sim].[pointssystem_sim].Members), [Measures].[Total Points]) ON COLUMNS FROM [F1Cube] WHERE [Hierarchies].[year].[ALL].[AllMember].[2008] CELL PROPERTIES VALUE, FORMATTED_VALUE, BACK_COLOR, FORE_COLOR, FONT_FLAGS",
        "ranges": {
         "column": {
          "chunkSize": 50,
          "thresholdPercentage": 0.2
         },
         "row": {
          "chunkSize": 2000,
          "thresholdPercentage": 0.1
         }
        },
        "serverUrl": "",
        "updateMode": "once"
       },
       "containerKey": "pivot-table",
       "showTitleBar": false,
       "style": {}
      }
     }
    },
    "atoti": {
     "height": 467,
     "state": {
      "name": "Base vs. Simulation - 2008 Championship table",
      "type": "container",
      "value": {
       "body": {
        "configuration": {
         "mapping": {
          "horizontal": [],
          "splitBy": [
           "[Measure Simulations].[pointssystem_sim].[pointssystem_sim]"
          ],
          "values": [
           "[Measures].[points.SUM]"
          ],
          "vertical": [],
          "yAxis": [
           "[Hierarchies].[driverRef].[driverRef]"
          ]
         },
         "plotly": {
          "layout": {
           "yaxis": {
            "categoryorder": "total ascending"
           }
          }
         },
         "type": "plotly-clustered-bar-chart"
        },
        "query": {
         "mdx": "SELECT NON EMPTY [Measures].[points.SUM] ON COLUMNS, NON EMPTY Crossjoin([Hierarchies].[driverRef].[driverRef].Members, [Measure Simulations].[pointssystem_sim].[pointssystem_sim].Members) ON ROWS FROM (SELECT {[Measure Simulations].[pointssystem_sim].[pointssystem_sim].[Base], [Measure Simulations].[pointssystem_sim].[pointssystem_sim].[Scoring 1991 to 2002]} ON COLUMNS FROM (SELECT Filter([Hierarchies].[driverRef].[driverRef].Members, [Measures].[points.SUM] > 0) ON COLUMNS FROM [F1Cube] WHERE [Hierarchies].[year].[ALL].[AllMember].[2008]) WHERE [Hierarchies].[year].[ALL].[AllMember].[2008]) WHERE [Hierarchies].[year].[ALL].[AllMember].[2008] CELL PROPERTIES VALUE, FORMATTED_VALUE, BACK_COLOR, FORE_COLOR, FONT_FLAGS",
         "serverUrl": "",
         "updateMode": "once"
        }
       },
       "containerKey": "chart",
       "showTitleBar": false,
       "style": {}
      }
     }
    }
   },
   "outputs": [],
   "source": [
    "f1cube.visualize(\"Base vs. Simulation - 2008 Championship table\")"
   ]
  }
 ],
 "metadata": {
  "kernelspec": {
   "display_name": "Python 3",
   "language": "python",
   "name": "python3"
  },
  "language_info": {
   "codemirror_mode": {
    "name": "ipython",
    "version": 3
   },
   "file_extension": ".py",
   "mimetype": "text/x-python",
   "name": "python",
   "nbconvert_exporter": "python",
   "pygments_lexer": "ipython3",
   "version": "3.7.6"
  }
 },
 "nbformat": 4,
 "nbformat_minor": 4
}
